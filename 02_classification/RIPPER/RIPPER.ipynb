{
 "cells": [
  {
   "cell_type": "code",
   "execution_count": null,
   "id": "6794bb47-81ef-4bd0-8576-5069fb468ce2",
   "metadata": {},
   "outputs": [],
   "source": [
    "# RIPPER (Repeated Incremental Pruning to Produce Error Reduction) is a rule-based classification algorithm. \n",
    "# It's an improvement over the IREP (Incremental Reduced Error Pruning) algorithm and is particularly known for \n",
    "# producing accurate and compact rule sets. Here's how you can implement RIPPER using Python's wittgenstein library, \n",
    "# which provides an implementation of the RIPPER algorithm."
   ]
  },
  {
   "cell_type": "markdown",
   "id": "db1cb9eb-62aa-4035-8a04-bf7e694a2155",
   "metadata": {},
   "source": [
    "# RIPPER"
   ]
  },
  {
   "cell_type": "code",
   "execution_count": null,
   "id": "5d72d1c4-488b-4e59-be05-b897cdf884ce",
   "metadata": {},
   "outputs": [],
   "source": [
    "import pandas as pd\n",
    "from sklearn.model_selection import train_test_split\n",
    "from sklearn.preprocessing import StandardScaler\n",
    "import wittgenstein as lw\n",
    "from sklearn.metrics import accuracy_score, classification_report\n",
    "\n",
    "# Load the dataset (assuming it's in a CSV file)\n",
    "df = pd.read_csv('your_dataset.csv')\n",
    "\n",
    "# Define the feature columns and target column\n",
    "X = df[['A', 'B']]\n",
    "y = df['C']\n",
    "\n",
    "# Split the dataset into training and testing sets\n",
    "X_train, X_test, y_train, y_test = train_test_split(X, y, test_size=0.2, random_state=42)\n",
    "\n",
    "# Combine training features and target for wittgenstein\n",
    "train_data = pd.concat([X_train, y_train], axis=1)\n",
    "\n",
    "# Initialize the RIPPER classifier\n",
    "ripper = lw.RIPPER()\n",
    "\n",
    "# Fit the model to the training data\n",
    "ripper.fit(train_data, class_feat='C')\n",
    "\n",
    "# Make predictions on the test data\n",
    "y_pred = ripper.predict(X_test)\n",
    "\n",
    "# Evaluate the model\n",
    "accuracy = accuracy_score(y_test, y_pred)\n",
    "print(f\"Accuracy: {accuracy:.2f}\")\n",
    "print(classification_report(y_test, y_pred))"
   ]
  }
 ],
 "metadata": {
  "kernelspec": {
   "display_name": "Python 3 (ipykernel)",
   "language": "python",
   "name": "python3"
  },
  "language_info": {
   "codemirror_mode": {
    "name": "ipython",
    "version": 3
   },
   "file_extension": ".py",
   "mimetype": "text/x-python",
   "name": "python",
   "nbconvert_exporter": "python",
   "pygments_lexer": "ipython3",
   "version": "3.11.5"
  }
 },
 "nbformat": 4,
 "nbformat_minor": 5
}
