{
 "cells": [
  {
   "cell_type": "markdown",
   "id": "db1cb9eb-62aa-4035-8a04-bf7e694a2155",
   "metadata": {},
   "source": [
    "# catboost"
   ]
  },
  {
   "cell_type": "code",
   "execution_count": 2,
   "id": "ccd02353-56c9-49ac-ac05-efdacdb25726",
   "metadata": {},
   "outputs": [],
   "source": [
    "# from google.colab import files\n",
    "# up = files.upload()"
   ]
  },
  {
   "cell_type": "markdown",
   "id": "5ad1b309-c773-4f9b-864b-8af601eb7c33",
   "metadata": {},
   "source": [
    "## import dataset"
   ]
  },
  {
   "cell_type": "code",
   "execution_count": 4,
   "id": "b176216b-1c57-4606-bfbe-568babc49696",
   "metadata": {},
   "outputs": [
    {
     "data": {
      "text/html": [
       "<div>\n",
       "<style scoped>\n",
       "    .dataframe tbody tr th:only-of-type {\n",
       "        vertical-align: middle;\n",
       "    }\n",
       "\n",
       "    .dataframe tbody tr th {\n",
       "        vertical-align: top;\n",
       "    }\n",
       "\n",
       "    .dataframe thead th {\n",
       "        text-align: right;\n",
       "    }\n",
       "</style>\n",
       "<table border=\"1\" class=\"dataframe\">\n",
       "  <thead>\n",
       "    <tr style=\"text-align: right;\">\n",
       "      <th></th>\n",
       "      <th>Age</th>\n",
       "      <th>Sex</th>\n",
       "      <th>BP</th>\n",
       "      <th>Cholesterol</th>\n",
       "      <th>Na_to_K</th>\n",
       "      <th>Drug</th>\n",
       "    </tr>\n",
       "  </thead>\n",
       "  <tbody>\n",
       "    <tr>\n",
       "      <th>0</th>\n",
       "      <td>23</td>\n",
       "      <td>0</td>\n",
       "      <td>0</td>\n",
       "      <td>0</td>\n",
       "      <td>25.355</td>\n",
       "      <td>drugY</td>\n",
       "    </tr>\n",
       "    <tr>\n",
       "      <th>1</th>\n",
       "      <td>47</td>\n",
       "      <td>1</td>\n",
       "      <td>1</td>\n",
       "      <td>0</td>\n",
       "      <td>13.093</td>\n",
       "      <td>drugC</td>\n",
       "    </tr>\n",
       "    <tr>\n",
       "      <th>2</th>\n",
       "      <td>47</td>\n",
       "      <td>1</td>\n",
       "      <td>1</td>\n",
       "      <td>0</td>\n",
       "      <td>10.114</td>\n",
       "      <td>drugC</td>\n",
       "    </tr>\n",
       "  </tbody>\n",
       "</table>\n",
       "</div>"
      ],
      "text/plain": [
       "   Age  Sex  BP  Cholesterol  Na_to_K   Drug\n",
       "0   23    0   0            0   25.355  drugY\n",
       "1   47    1   1            0   13.093  drugC\n",
       "2   47    1   1            0   10.114  drugC"
      ]
     },
     "execution_count": 4,
     "metadata": {},
     "output_type": "execute_result"
    }
   ],
   "source": [
    "import pandas as pd\n",
    "df = pd.read_csv('mydata.csv')\n",
    "df.head(3)"
   ]
  },
  {
   "cell_type": "markdown",
   "id": "1c15a161-0fe3-4453-b3d9-52a7e57a86d9",
   "metadata": {},
   "source": [
    "## cleaning"
   ]
  },
  {
   "cell_type": "code",
   "execution_count": 6,
   "id": "ebb798b9-f044-4532-8450-9143718be736",
   "metadata": {},
   "outputs": [],
   "source": [
    "# clean the data"
   ]
  },
  {
   "cell_type": "markdown",
   "id": "ae8e659b-8504-48d3-92aa-c4e607702a2b",
   "metadata": {},
   "source": [
    "## encoding"
   ]
  },
  {
   "cell_type": "code",
   "execution_count": 8,
   "id": "bf3b336a-af13-4efb-bd2b-6951b26c26a4",
   "metadata": {},
   "outputs": [],
   "source": [
    "# encode the data"
   ]
  },
  {
   "cell_type": "markdown",
   "id": "7d2214f5-0230-4ff6-8430-a3edd6e183d2",
   "metadata": {},
   "source": [
    "## define x , y"
   ]
  },
  {
   "cell_type": "code",
   "execution_count": 10,
   "id": "0a1e6ef4-62e7-4af1-b692-05a8b4ba7e4f",
   "metadata": {},
   "outputs": [
    {
     "data": {
      "text/plain": [
       "array([[23.   ,  0.   ,  0.   ,  0.   , 25.355],\n",
       "       [47.   ,  1.   ,  1.   ,  0.   , 13.093],\n",
       "       [47.   ,  1.   ,  1.   ,  0.   , 10.114],\n",
       "       [28.   ,  0.   ,  2.   ,  0.   ,  7.798],\n",
       "       [61.   ,  0.   ,  1.   ,  0.   , 18.043]])"
      ]
     },
     "execution_count": 10,
     "metadata": {},
     "output_type": "execute_result"
    }
   ],
   "source": [
    "import numpy as np\n",
    "x = df[['Age', 'Sex', 'BP', 'Cholesterol', 'Na_to_K']].values\n",
    "x[0:5]"
   ]
  },
  {
   "cell_type": "code",
   "execution_count": 11,
   "id": "283af94a-2ef9-4751-957f-170911303a9d",
   "metadata": {},
   "outputs": [
    {
     "data": {
      "text/plain": [
       "0    drugY\n",
       "1    drugC\n",
       "2    drugC\n",
       "3    drugX\n",
       "4    drugY\n",
       "Name: Drug, dtype: object"
      ]
     },
     "execution_count": 11,
     "metadata": {},
     "output_type": "execute_result"
    }
   ],
   "source": [
    "y = df['Drug']\n",
    "y[:5]"
   ]
  },
  {
   "cell_type": "markdown",
   "id": "a80c4502-1443-4a2e-857b-fa1e3e4a9499",
   "metadata": {},
   "source": [
    "## spliting"
   ]
  },
  {
   "cell_type": "code",
   "execution_count": 13,
   "id": "c4f88805-0653-4bdf-a846-22be03eb414f",
   "metadata": {},
   "outputs": [],
   "source": [
    "### finding best random state \n",
    "\n",
    "# from sklearn.model_selection import train_test_split\n",
    "# from catboost import CatBoostClassifier\n",
    "# from sklearn.metrics import accuracy_score\n",
    "\n",
    "# import time\n",
    "# t1 = time.time()\n",
    "# lst = []\n",
    "# for i in range(1,10):\n",
    "#     x_train, x_test, y_train, y_test = train_test_split(x, y, test_size=0.25, random_state=i) \n",
    "#     cbc = CatBoostClassifier(iterations=100, learning_rate=0.1, depth=3, random_state=42) # verbose=0\n",
    "#     cbc.fit(x_train, y_train)\n",
    "#     yhat_test = cbc.predict(x_test)\n",
    "#     acc = accuracy_score(y_test, yhat_test)\n",
    "#     lst.append(acc)\n",
    "# t2 = time.time()\n",
    "# print(f\"run time: {round((t2 - t1) / 60 , 0)} min\")\n",
    "# print(f\"accuracy_score = {round(max(lst),2)}\")\n",
    "# print(f\"random_state = {np.argmax(lst) + 1}\")"
   ]
  },
  {
   "cell_type": "code",
   "execution_count": 14,
   "id": "afccd0ed-1342-4ceb-b931-7627694f8cdb",
   "metadata": {},
   "outputs": [],
   "source": [
    "from sklearn.model_selection import train_test_split\n",
    "x_train, x_test, y_train, y_test = train_test_split(x, y, test_size=0.25, random_state=42)"
   ]
  },
  {
   "cell_type": "markdown",
   "id": "905719e9-3989-4924-aba1-5237aa1c3af1",
   "metadata": {},
   "source": [
    "## scaling"
   ]
  },
  {
   "cell_type": "code",
   "execution_count": 16,
   "id": "62d8d617-0fc5-4f6a-8d94-3f5a3e298b0d",
   "metadata": {},
   "outputs": [],
   "source": [
    "# do not need for scaling"
   ]
  },
  {
   "cell_type": "markdown",
   "id": "407fe046-bb5c-4fba-b925-2c130dc62e74",
   "metadata": {},
   "source": [
    "## fit train data"
   ]
  },
  {
   "cell_type": "code",
   "execution_count": null,
   "id": "5d72d1c4-488b-4e59-be05-b897cdf884ce",
   "metadata": {},
   "outputs": [],
   "source": [
    "from catboost import CatBoostClassifier\n",
    "cbc = CatBoostClassifier(iterations=100, learning_rate=0.1, depth=3, random_state=42) # verbose=0\n",
    "cbc.fit(x_train, y_train)"
   ]
  },
  {
   "cell_type": "markdown",
   "id": "f6f7ebb1-ef48-49a3-98a0-13b2ff3b11f8",
   "metadata": {},
   "source": [
    "## predict test data"
   ]
  },
  {
   "cell_type": "code",
   "execution_count": 20,
   "id": "50c7b60d-509b-4a51-a474-aa915e9fc9d4",
   "metadata": {},
   "outputs": [],
   "source": [
    "yhat_test = cbc.predict(x_test)"
   ]
  },
  {
   "cell_type": "markdown",
   "id": "499f2b94-11f1-47e3-9f4c-0112e29b3b05",
   "metadata": {},
   "source": [
    "## Evaluate the model"
   ]
  },
  {
   "cell_type": "code",
   "execution_count": 22,
   "id": "7176af95-0737-4ff2-b788-98d69be81d68",
   "metadata": {},
   "outputs": [
    {
     "name": "stdout",
     "output_type": "stream",
     "text": [
      "Accuracy_score (train data):  1.0\n",
      "Accuracy_score (test data):  1.0\n"
     ]
    }
   ],
   "source": [
    "from sklearn.metrics import accuracy_score\n",
    "print(\"Accuracy_score (train data): \", accuracy_score(y_train, cbc.predict(x_train)))\n",
    "print(\"Accuracy_score (test data): \", accuracy_score(y_test, yhat_test))"
   ]
  },
  {
   "cell_type": "markdown",
   "id": "cf02c876-2593-4e1a-a186-59945f428c03",
   "metadata": {},
   "source": [
    "## save the model"
   ]
  },
  {
   "cell_type": "code",
   "execution_count": 24,
   "id": "116fb8c3-52c4-4817-a6d4-50f456053f96",
   "metadata": {},
   "outputs": [],
   "source": [
    "# import joblib\n",
    "# joblib.dump(cbc, 'cbc_model.pkl')"
   ]
  },
  {
   "cell_type": "markdown",
   "id": "a5fe65b6-cdc1-4452-9396-3549d1713f99",
   "metadata": {},
   "source": [
    "## load the model"
   ]
  },
  {
   "cell_type": "code",
   "execution_count": 26,
   "id": "41818cbe-5eb0-43aa-b89c-f2e614457439",
   "metadata": {},
   "outputs": [],
   "source": [
    "# import joblib\n",
    "# cbc = joblib.load('cbc_model.pkl')"
   ]
  }
 ],
 "metadata": {
  "kernelspec": {
   "display_name": "Python [conda env:base] *",
   "language": "python",
   "name": "conda-base-py"
  },
  "language_info": {
   "codemirror_mode": {
    "name": "ipython",
    "version": 3
   },
   "file_extension": ".py",
   "mimetype": "text/x-python",
   "name": "python",
   "nbconvert_exporter": "python",
   "pygments_lexer": "ipython3",
   "version": "3.12.7"
  }
 },
 "nbformat": 4,
 "nbformat_minor": 5
}
