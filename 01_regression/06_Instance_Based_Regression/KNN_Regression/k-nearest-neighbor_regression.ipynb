{
 "cells": [
  {
   "cell_type": "markdown",
   "id": "2679af23-4d2c-4ee8-adcc-ce8b0b601938",
   "metadata": {
    "id": "2679af23-4d2c-4ee8-adcc-ce8b0b601938"
   },
   "source": [
    "# KNN Regression"
   ]
  },
  {
   "cell_type": "code",
   "execution_count": 1,
   "id": "acaBGDRed7iN",
   "metadata": {
    "colab": {
     "base_uri": "https://localhost:8080/",
     "height": 73
    },
    "executionInfo": {
     "elapsed": 7335,
     "status": "ok",
     "timestamp": 1735761892271,
     "user": {
      "displayName": "Javad Monsefi",
      "userId": "11903795943444044796"
     },
     "user_tz": -210
    },
    "id": "acaBGDRed7iN",
    "outputId": "66b0ff99-9b35-478a-aa4a-40065e57c26a"
   },
   "outputs": [],
   "source": [
    "# from google.colab import files\n",
    "# up = files.upload()"
   ]
  },
  {
   "cell_type": "markdown",
   "id": "5b41b6c4-c543-419d-b8f1-bd32d1c4081a",
   "metadata": {
    "id": "5b41b6c4-c543-419d-b8f1-bd32d1c4081a"
   },
   "source": [
    "## import dataset"
   ]
  },
  {
   "cell_type": "code",
   "execution_count": 2,
   "id": "34643d4e-8c0f-402e-9941-9cd245d9db0f",
   "metadata": {
    "colab": {
     "base_uri": "https://localhost:8080/",
     "height": 143
    },
    "executionInfo": {
     "elapsed": 377,
     "status": "ok",
     "timestamp": 1735761899453,
     "user": {
      "displayName": "Javad Monsefi",
      "userId": "11903795943444044796"
     },
     "user_tz": -210
    },
    "id": "34643d4e-8c0f-402e-9941-9cd245d9db0f",
    "outputId": "326217ab-ebbc-43b0-a8aa-fbd73520ad84"
   },
   "outputs": [
    {
     "data": {
      "text/html": [
       "<div>\n",
       "<style scoped>\n",
       "    .dataframe tbody tr th:only-of-type {\n",
       "        vertical-align: middle;\n",
       "    }\n",
       "\n",
       "    .dataframe tbody tr th {\n",
       "        vertical-align: top;\n",
       "    }\n",
       "\n",
       "    .dataframe thead th {\n",
       "        text-align: right;\n",
       "    }\n",
       "</style>\n",
       "<table border=\"1\" class=\"dataframe\">\n",
       "  <thead>\n",
       "    <tr style=\"text-align: right;\">\n",
       "      <th></th>\n",
       "      <th>f1</th>\n",
       "      <th>f2</th>\n",
       "      <th>f3</th>\n",
       "      <th>f4</th>\n",
       "      <th>T</th>\n",
       "    </tr>\n",
       "  </thead>\n",
       "  <tbody>\n",
       "    <tr>\n",
       "      <th>0</th>\n",
       "      <td>16.5</td>\n",
       "      <td>202.0</td>\n",
       "      <td>865.500000</td>\n",
       "      <td>1880.0</td>\n",
       "      <td>50.000000</td>\n",
       "    </tr>\n",
       "    <tr>\n",
       "      <th>1</th>\n",
       "      <td>18.0</td>\n",
       "      <td>204.0</td>\n",
       "      <td>688.000000</td>\n",
       "      <td>1738.5</td>\n",
       "      <td>44.000000</td>\n",
       "    </tr>\n",
       "    <tr>\n",
       "      <th>2</th>\n",
       "      <td>18.0</td>\n",
       "      <td>203.0</td>\n",
       "      <td>583.666667</td>\n",
       "      <td>1470.0</td>\n",
       "      <td>66.666667</td>\n",
       "    </tr>\n",
       "  </tbody>\n",
       "</table>\n",
       "</div>"
      ],
      "text/plain": [
       "     f1     f2          f3      f4          T\n",
       "0  16.5  202.0  865.500000  1880.0  50.000000\n",
       "1  18.0  204.0  688.000000  1738.5  44.000000\n",
       "2  18.0  203.0  583.666667  1470.0  66.666667"
      ]
     },
     "execution_count": 2,
     "metadata": {},
     "output_type": "execute_result"
    }
   ],
   "source": [
    "import pandas as pd\n",
    "df = pd.read_csv('df.csv')\n",
    "df.head(3)"
   ]
  },
  {
   "cell_type": "code",
   "execution_count": 3,
   "id": "ziaZB3BKeWkA",
   "metadata": {
    "id": "ziaZB3BKeWkA"
   },
   "outputs": [],
   "source": [
    "# df.info()"
   ]
  },
  {
   "cell_type": "markdown",
   "id": "RX9vZEiieOD7",
   "metadata": {
    "id": "RX9vZEiieOD7"
   },
   "source": [
    "## cleaning"
   ]
  },
  {
   "cell_type": "code",
   "execution_count": 4,
   "id": "0405brK3eQK_",
   "metadata": {
    "id": "0405brK3eQK_"
   },
   "outputs": [],
   "source": [
    "# clean the data"
   ]
  },
  {
   "cell_type": "markdown",
   "id": "XHF_pogMeSTW",
   "metadata": {
    "id": "XHF_pogMeSTW"
   },
   "source": [
    "## encoding"
   ]
  },
  {
   "cell_type": "code",
   "execution_count": 5,
   "id": "EDZlfUZ4eUFf",
   "metadata": {
    "id": "EDZlfUZ4eUFf"
   },
   "outputs": [],
   "source": [
    "# encode the data"
   ]
  },
  {
   "cell_type": "markdown",
   "id": "ed5d7c2c-b7cc-4bd6-b49b-f54021450354",
   "metadata": {
    "id": "ed5d7c2c-b7cc-4bd6-b49b-f54021450354"
   },
   "source": [
    "## define x , y"
   ]
  },
  {
   "cell_type": "code",
   "execution_count": 6,
   "id": "6ac47a65-9bc1-4349-b1d5-1dd177d5ac48",
   "metadata": {
    "id": "6ac47a65-9bc1-4349-b1d5-1dd177d5ac48"
   },
   "outputs": [],
   "source": [
    "import numpy as np\n",
    "x = df[['f1', 'f2', 'f3']].values\n",
    "y = df['T'].values"
   ]
  },
  {
   "cell_type": "markdown",
   "id": "dbc6aede-ac27-4af2-9988-f9e53ea9c335",
   "metadata": {
    "id": "dbc6aede-ac27-4af2-9988-f9e53ea9c335"
   },
   "source": [
    "## spliting"
   ]
  },
  {
   "cell_type": "code",
   "execution_count": 7,
   "id": "c0b7eb55-475e-47cb-ac2d-c1ca43741972",
   "metadata": {},
   "outputs": [],
   "source": [
    "### finding best random state \n",
    "\n",
    "# from sklearn.model_selection import train_test_split\n",
    "# from sklearn.neighbors import KNeighborsRegressor\n",
    "# from sklearn.preprocessing import StandardScaler\n",
    "# from sklearn.metrics import r2_score\n",
    "\n",
    "# import time\n",
    "# t1 = time.time()\n",
    "# lst = []\n",
    "# for i in range(1,10):\n",
    "#     x_train, x_test, y_train, y_test = train_test_split(x, y, test_size=0.25, random_state=i) \n",
    "#     sc = StandardScaler().fit(x_train)\n",
    "#     x_train = sc.transform(x_train)\n",
    "#     x_test = sc.transform(x_test)\n",
    "#     knr = KNeighborsRegressor(n_neighbors=5)\n",
    "#     knr.fit(x_train, y_train)\n",
    "#     yhat_test = knr.predict(x_test)\n",
    "#     r2 = r2_score(y_test, yhat_test)\n",
    "#     lst.append(r2)\n",
    "# t2 = time.time()\n",
    "# print(f\"run time: {round((t2 - t1) / 60 , 0)} min\")\n",
    "# print(f\"R2_score = {round(max(lst),2)}\")\n",
    "# print(f\"random_state = {np.argmax(lst) + 1}\")"
   ]
  },
  {
   "cell_type": "code",
   "execution_count": 8,
   "id": "6308b9e6-4616-430f-bb5d-77b9312e1d08",
   "metadata": {
    "id": "6308b9e6-4616-430f-bb5d-77b9312e1d08"
   },
   "outputs": [],
   "source": [
    "from sklearn.model_selection import train_test_split\n",
    "x_train, x_test, y_train, y_test = train_test_split(x, y, test_size=0.25, random_state=42)"
   ]
  },
  {
   "cell_type": "markdown",
   "id": "fd368c66-be9d-4263-80fd-adb6b7e14774",
   "metadata": {
    "id": "fd368c66-be9d-4263-80fd-adb6b7e14774"
   },
   "source": [
    "## scaling"
   ]
  },
  {
   "cell_type": "code",
   "execution_count": 9,
   "id": "641a8a7b-bbba-4f41-b06e-d731fe2e715e",
   "metadata": {
    "id": "641a8a7b-bbba-4f41-b06e-d731fe2e715e"
   },
   "outputs": [],
   "source": [
    "from sklearn.preprocessing import StandardScaler\n",
    "sc = StandardScaler().fit(x_train)\n",
    "x_train = sc.transform(x_train)\n",
    "x_test = sc.transform(x_test)"
   ]
  },
  {
   "cell_type": "markdown",
   "id": "4dd1d3e0-643b-41b2-b07e-a4c4c5e5961e",
   "metadata": {
    "id": "4dd1d3e0-643b-41b2-b07e-a4c4c5e5961e"
   },
   "source": [
    "## fit the model"
   ]
  },
  {
   "cell_type": "code",
   "execution_count": 10,
   "id": "44b53962-7c36-424d-9286-15578750880c",
   "metadata": {},
   "outputs": [],
   "source": [
    "### K-fold cross validation\n",
    "\n",
    "# from sklearn.neighbors import KNeighborsRegressor\n",
    "# from sklearn.model_selection import GridSearchCV\n",
    "\n",
    "# parameters = {\n",
    "#     '': [],\n",
    "#     '': []\n",
    "# }\n",
    "\n",
    "# kn = KNeighborsRegressor(random_state=42)\n",
    "# gs = GridSearchCV(estimator=kn, param_grid=parameters, cv=5)\n",
    "\n",
    "# gs.fit(x_train, y_train)\n",
    "\n",
    "# best_params = gs.best_params_\n",
    "# print(best_params)"
   ]
  },
  {
   "cell_type": "code",
   "execution_count": 11,
   "id": "7D3hlIm2e8tf",
   "metadata": {
    "id": "7D3hlIm2e8tf"
   },
   "outputs": [],
   "source": [
    "# def param\n",
    "# n_neighbors=5, *, weights='uniform', algorithm='auto', leaf_size=30, p=2,\n",
    "# metric='minkowski', metric_params=None, n_jobs=None"
   ]
  },
  {
   "cell_type": "code",
   "execution_count": 12,
   "id": "a893092d-b430-42b8-a074-288a7a522f2b",
   "metadata": {},
   "outputs": [],
   "source": [
    "### finding best n\n",
    "\n",
    "# from sklearn.metrics import r2_score\n",
    "\n",
    "# r2_list = []\n",
    "# for n in range(1,10):\n",
    "#     knn = KNeighborsRegressor(n_neighbors = n)\n",
    "#     knn.fit(x_train,y_train)\n",
    "#     yhat_test = knn.predict(x_test)\n",
    "#     r2 = r2_score(y_test, yhat_test)\n",
    "#     r2_list.append(r2)\n",
    "# print(r2_list)"
   ]
  },
  {
   "cell_type": "code",
   "execution_count": 13,
   "id": "3f12c249-81f3-48e5-b8ad-34b348c68c2b",
   "metadata": {
    "colab": {
     "base_uri": "https://localhost:8080/",
     "height": 80
    },
    "executionInfo": {
     "elapsed": 1123,
     "status": "ok",
     "timestamp": 1735761986346,
     "user": {
      "displayName": "Javad Monsefi",
      "userId": "11903795943444044796"
     },
     "user_tz": -210
    },
    "id": "3f12c249-81f3-48e5-b8ad-34b348c68c2b",
    "outputId": "826f8ed4-fd44-41c8-933e-ab49b29280a4"
   },
   "outputs": [
    {
     "data": {
      "text/html": [
       "<style>#sk-container-id-1 {\n",
       "  /* Definition of color scheme common for light and dark mode */\n",
       "  --sklearn-color-text: #000;\n",
       "  --sklearn-color-text-muted: #666;\n",
       "  --sklearn-color-line: gray;\n",
       "  /* Definition of color scheme for unfitted estimators */\n",
       "  --sklearn-color-unfitted-level-0: #fff5e6;\n",
       "  --sklearn-color-unfitted-level-1: #f6e4d2;\n",
       "  --sklearn-color-unfitted-level-2: #ffe0b3;\n",
       "  --sklearn-color-unfitted-level-3: chocolate;\n",
       "  /* Definition of color scheme for fitted estimators */\n",
       "  --sklearn-color-fitted-level-0: #f0f8ff;\n",
       "  --sklearn-color-fitted-level-1: #d4ebff;\n",
       "  --sklearn-color-fitted-level-2: #b3dbfd;\n",
       "  --sklearn-color-fitted-level-3: cornflowerblue;\n",
       "\n",
       "  /* Specific color for light theme */\n",
       "  --sklearn-color-text-on-default-background: var(--sg-text-color, var(--theme-code-foreground, var(--jp-content-font-color1, black)));\n",
       "  --sklearn-color-background: var(--sg-background-color, var(--theme-background, var(--jp-layout-color0, white)));\n",
       "  --sklearn-color-border-box: var(--sg-text-color, var(--theme-code-foreground, var(--jp-content-font-color1, black)));\n",
       "  --sklearn-color-icon: #696969;\n",
       "\n",
       "  @media (prefers-color-scheme: dark) {\n",
       "    /* Redefinition of color scheme for dark theme */\n",
       "    --sklearn-color-text-on-default-background: var(--sg-text-color, var(--theme-code-foreground, var(--jp-content-font-color1, white)));\n",
       "    --sklearn-color-background: var(--sg-background-color, var(--theme-background, var(--jp-layout-color0, #111)));\n",
       "    --sklearn-color-border-box: var(--sg-text-color, var(--theme-code-foreground, var(--jp-content-font-color1, white)));\n",
       "    --sklearn-color-icon: #878787;\n",
       "  }\n",
       "}\n",
       "\n",
       "#sk-container-id-1 {\n",
       "  color: var(--sklearn-color-text);\n",
       "}\n",
       "\n",
       "#sk-container-id-1 pre {\n",
       "  padding: 0;\n",
       "}\n",
       "\n",
       "#sk-container-id-1 input.sk-hidden--visually {\n",
       "  border: 0;\n",
       "  clip: rect(1px 1px 1px 1px);\n",
       "  clip: rect(1px, 1px, 1px, 1px);\n",
       "  height: 1px;\n",
       "  margin: -1px;\n",
       "  overflow: hidden;\n",
       "  padding: 0;\n",
       "  position: absolute;\n",
       "  width: 1px;\n",
       "}\n",
       "\n",
       "#sk-container-id-1 div.sk-dashed-wrapped {\n",
       "  border: 1px dashed var(--sklearn-color-line);\n",
       "  margin: 0 0.4em 0.5em 0.4em;\n",
       "  box-sizing: border-box;\n",
       "  padding-bottom: 0.4em;\n",
       "  background-color: var(--sklearn-color-background);\n",
       "}\n",
       "\n",
       "#sk-container-id-1 div.sk-container {\n",
       "  /* jupyter's `normalize.less` sets `[hidden] { display: none; }`\n",
       "     but bootstrap.min.css set `[hidden] { display: none !important; }`\n",
       "     so we also need the `!important` here to be able to override the\n",
       "     default hidden behavior on the sphinx rendered scikit-learn.org.\n",
       "     See: https://github.com/scikit-learn/scikit-learn/issues/21755 */\n",
       "  display: inline-block !important;\n",
       "  position: relative;\n",
       "}\n",
       "\n",
       "#sk-container-id-1 div.sk-text-repr-fallback {\n",
       "  display: none;\n",
       "}\n",
       "\n",
       "div.sk-parallel-item,\n",
       "div.sk-serial,\n",
       "div.sk-item {\n",
       "  /* draw centered vertical line to link estimators */\n",
       "  background-image: linear-gradient(var(--sklearn-color-text-on-default-background), var(--sklearn-color-text-on-default-background));\n",
       "  background-size: 2px 100%;\n",
       "  background-repeat: no-repeat;\n",
       "  background-position: center center;\n",
       "}\n",
       "\n",
       "/* Parallel-specific style estimator block */\n",
       "\n",
       "#sk-container-id-1 div.sk-parallel-item::after {\n",
       "  content: \"\";\n",
       "  width: 100%;\n",
       "  border-bottom: 2px solid var(--sklearn-color-text-on-default-background);\n",
       "  flex-grow: 1;\n",
       "}\n",
       "\n",
       "#sk-container-id-1 div.sk-parallel {\n",
       "  display: flex;\n",
       "  align-items: stretch;\n",
       "  justify-content: center;\n",
       "  background-color: var(--sklearn-color-background);\n",
       "  position: relative;\n",
       "}\n",
       "\n",
       "#sk-container-id-1 div.sk-parallel-item {\n",
       "  display: flex;\n",
       "  flex-direction: column;\n",
       "}\n",
       "\n",
       "#sk-container-id-1 div.sk-parallel-item:first-child::after {\n",
       "  align-self: flex-end;\n",
       "  width: 50%;\n",
       "}\n",
       "\n",
       "#sk-container-id-1 div.sk-parallel-item:last-child::after {\n",
       "  align-self: flex-start;\n",
       "  width: 50%;\n",
       "}\n",
       "\n",
       "#sk-container-id-1 div.sk-parallel-item:only-child::after {\n",
       "  width: 0;\n",
       "}\n",
       "\n",
       "/* Serial-specific style estimator block */\n",
       "\n",
       "#sk-container-id-1 div.sk-serial {\n",
       "  display: flex;\n",
       "  flex-direction: column;\n",
       "  align-items: center;\n",
       "  background-color: var(--sklearn-color-background);\n",
       "  padding-right: 1em;\n",
       "  padding-left: 1em;\n",
       "}\n",
       "\n",
       "\n",
       "/* Toggleable style: style used for estimator/Pipeline/ColumnTransformer box that is\n",
       "clickable and can be expanded/collapsed.\n",
       "- Pipeline and ColumnTransformer use this feature and define the default style\n",
       "- Estimators will overwrite some part of the style using the `sk-estimator` class\n",
       "*/\n",
       "\n",
       "/* Pipeline and ColumnTransformer style (default) */\n",
       "\n",
       "#sk-container-id-1 div.sk-toggleable {\n",
       "  /* Default theme specific background. It is overwritten whether we have a\n",
       "  specific estimator or a Pipeline/ColumnTransformer */\n",
       "  background-color: var(--sklearn-color-background);\n",
       "}\n",
       "\n",
       "/* Toggleable label */\n",
       "#sk-container-id-1 label.sk-toggleable__label {\n",
       "  cursor: pointer;\n",
       "  display: flex;\n",
       "  width: 100%;\n",
       "  margin-bottom: 0;\n",
       "  padding: 0.5em;\n",
       "  box-sizing: border-box;\n",
       "  text-align: center;\n",
       "  align-items: start;\n",
       "  justify-content: space-between;\n",
       "  gap: 0.5em;\n",
       "}\n",
       "\n",
       "#sk-container-id-1 label.sk-toggleable__label .caption {\n",
       "  font-size: 0.6rem;\n",
       "  font-weight: lighter;\n",
       "  color: var(--sklearn-color-text-muted);\n",
       "}\n",
       "\n",
       "#sk-container-id-1 label.sk-toggleable__label-arrow:before {\n",
       "  /* Arrow on the left of the label */\n",
       "  content: \"▸\";\n",
       "  float: left;\n",
       "  margin-right: 0.25em;\n",
       "  color: var(--sklearn-color-icon);\n",
       "}\n",
       "\n",
       "#sk-container-id-1 label.sk-toggleable__label-arrow:hover:before {\n",
       "  color: var(--sklearn-color-text);\n",
       "}\n",
       "\n",
       "/* Toggleable content - dropdown */\n",
       "\n",
       "#sk-container-id-1 div.sk-toggleable__content {\n",
       "  max-height: 0;\n",
       "  max-width: 0;\n",
       "  overflow: hidden;\n",
       "  text-align: left;\n",
       "  /* unfitted */\n",
       "  background-color: var(--sklearn-color-unfitted-level-0);\n",
       "}\n",
       "\n",
       "#sk-container-id-1 div.sk-toggleable__content.fitted {\n",
       "  /* fitted */\n",
       "  background-color: var(--sklearn-color-fitted-level-0);\n",
       "}\n",
       "\n",
       "#sk-container-id-1 div.sk-toggleable__content pre {\n",
       "  margin: 0.2em;\n",
       "  border-radius: 0.25em;\n",
       "  color: var(--sklearn-color-text);\n",
       "  /* unfitted */\n",
       "  background-color: var(--sklearn-color-unfitted-level-0);\n",
       "}\n",
       "\n",
       "#sk-container-id-1 div.sk-toggleable__content.fitted pre {\n",
       "  /* unfitted */\n",
       "  background-color: var(--sklearn-color-fitted-level-0);\n",
       "}\n",
       "\n",
       "#sk-container-id-1 input.sk-toggleable__control:checked~div.sk-toggleable__content {\n",
       "  /* Expand drop-down */\n",
       "  max-height: 200px;\n",
       "  max-width: 100%;\n",
       "  overflow: auto;\n",
       "}\n",
       "\n",
       "#sk-container-id-1 input.sk-toggleable__control:checked~label.sk-toggleable__label-arrow:before {\n",
       "  content: \"▾\";\n",
       "}\n",
       "\n",
       "/* Pipeline/ColumnTransformer-specific style */\n",
       "\n",
       "#sk-container-id-1 div.sk-label input.sk-toggleable__control:checked~label.sk-toggleable__label {\n",
       "  color: var(--sklearn-color-text);\n",
       "  background-color: var(--sklearn-color-unfitted-level-2);\n",
       "}\n",
       "\n",
       "#sk-container-id-1 div.sk-label.fitted input.sk-toggleable__control:checked~label.sk-toggleable__label {\n",
       "  background-color: var(--sklearn-color-fitted-level-2);\n",
       "}\n",
       "\n",
       "/* Estimator-specific style */\n",
       "\n",
       "/* Colorize estimator box */\n",
       "#sk-container-id-1 div.sk-estimator input.sk-toggleable__control:checked~label.sk-toggleable__label {\n",
       "  /* unfitted */\n",
       "  background-color: var(--sklearn-color-unfitted-level-2);\n",
       "}\n",
       "\n",
       "#sk-container-id-1 div.sk-estimator.fitted input.sk-toggleable__control:checked~label.sk-toggleable__label {\n",
       "  /* fitted */\n",
       "  background-color: var(--sklearn-color-fitted-level-2);\n",
       "}\n",
       "\n",
       "#sk-container-id-1 div.sk-label label.sk-toggleable__label,\n",
       "#sk-container-id-1 div.sk-label label {\n",
       "  /* The background is the default theme color */\n",
       "  color: var(--sklearn-color-text-on-default-background);\n",
       "}\n",
       "\n",
       "/* On hover, darken the color of the background */\n",
       "#sk-container-id-1 div.sk-label:hover label.sk-toggleable__label {\n",
       "  color: var(--sklearn-color-text);\n",
       "  background-color: var(--sklearn-color-unfitted-level-2);\n",
       "}\n",
       "\n",
       "/* Label box, darken color on hover, fitted */\n",
       "#sk-container-id-1 div.sk-label.fitted:hover label.sk-toggleable__label.fitted {\n",
       "  color: var(--sklearn-color-text);\n",
       "  background-color: var(--sklearn-color-fitted-level-2);\n",
       "}\n",
       "\n",
       "/* Estimator label */\n",
       "\n",
       "#sk-container-id-1 div.sk-label label {\n",
       "  font-family: monospace;\n",
       "  font-weight: bold;\n",
       "  display: inline-block;\n",
       "  line-height: 1.2em;\n",
       "}\n",
       "\n",
       "#sk-container-id-1 div.sk-label-container {\n",
       "  text-align: center;\n",
       "}\n",
       "\n",
       "/* Estimator-specific */\n",
       "#sk-container-id-1 div.sk-estimator {\n",
       "  font-family: monospace;\n",
       "  border: 1px dotted var(--sklearn-color-border-box);\n",
       "  border-radius: 0.25em;\n",
       "  box-sizing: border-box;\n",
       "  margin-bottom: 0.5em;\n",
       "  /* unfitted */\n",
       "  background-color: var(--sklearn-color-unfitted-level-0);\n",
       "}\n",
       "\n",
       "#sk-container-id-1 div.sk-estimator.fitted {\n",
       "  /* fitted */\n",
       "  background-color: var(--sklearn-color-fitted-level-0);\n",
       "}\n",
       "\n",
       "/* on hover */\n",
       "#sk-container-id-1 div.sk-estimator:hover {\n",
       "  /* unfitted */\n",
       "  background-color: var(--sklearn-color-unfitted-level-2);\n",
       "}\n",
       "\n",
       "#sk-container-id-1 div.sk-estimator.fitted:hover {\n",
       "  /* fitted */\n",
       "  background-color: var(--sklearn-color-fitted-level-2);\n",
       "}\n",
       "\n",
       "/* Specification for estimator info (e.g. \"i\" and \"?\") */\n",
       "\n",
       "/* Common style for \"i\" and \"?\" */\n",
       "\n",
       ".sk-estimator-doc-link,\n",
       "a:link.sk-estimator-doc-link,\n",
       "a:visited.sk-estimator-doc-link {\n",
       "  float: right;\n",
       "  font-size: smaller;\n",
       "  line-height: 1em;\n",
       "  font-family: monospace;\n",
       "  background-color: var(--sklearn-color-background);\n",
       "  border-radius: 1em;\n",
       "  height: 1em;\n",
       "  width: 1em;\n",
       "  text-decoration: none !important;\n",
       "  margin-left: 0.5em;\n",
       "  text-align: center;\n",
       "  /* unfitted */\n",
       "  border: var(--sklearn-color-unfitted-level-1) 1pt solid;\n",
       "  color: var(--sklearn-color-unfitted-level-1);\n",
       "}\n",
       "\n",
       ".sk-estimator-doc-link.fitted,\n",
       "a:link.sk-estimator-doc-link.fitted,\n",
       "a:visited.sk-estimator-doc-link.fitted {\n",
       "  /* fitted */\n",
       "  border: var(--sklearn-color-fitted-level-1) 1pt solid;\n",
       "  color: var(--sklearn-color-fitted-level-1);\n",
       "}\n",
       "\n",
       "/* On hover */\n",
       "div.sk-estimator:hover .sk-estimator-doc-link:hover,\n",
       ".sk-estimator-doc-link:hover,\n",
       "div.sk-label-container:hover .sk-estimator-doc-link:hover,\n",
       ".sk-estimator-doc-link:hover {\n",
       "  /* unfitted */\n",
       "  background-color: var(--sklearn-color-unfitted-level-3);\n",
       "  color: var(--sklearn-color-background);\n",
       "  text-decoration: none;\n",
       "}\n",
       "\n",
       "div.sk-estimator.fitted:hover .sk-estimator-doc-link.fitted:hover,\n",
       ".sk-estimator-doc-link.fitted:hover,\n",
       "div.sk-label-container:hover .sk-estimator-doc-link.fitted:hover,\n",
       ".sk-estimator-doc-link.fitted:hover {\n",
       "  /* fitted */\n",
       "  background-color: var(--sklearn-color-fitted-level-3);\n",
       "  color: var(--sklearn-color-background);\n",
       "  text-decoration: none;\n",
       "}\n",
       "\n",
       "/* Span, style for the box shown on hovering the info icon */\n",
       ".sk-estimator-doc-link span {\n",
       "  display: none;\n",
       "  z-index: 9999;\n",
       "  position: relative;\n",
       "  font-weight: normal;\n",
       "  right: .2ex;\n",
       "  padding: .5ex;\n",
       "  margin: .5ex;\n",
       "  width: min-content;\n",
       "  min-width: 20ex;\n",
       "  max-width: 50ex;\n",
       "  color: var(--sklearn-color-text);\n",
       "  box-shadow: 2pt 2pt 4pt #999;\n",
       "  /* unfitted */\n",
       "  background: var(--sklearn-color-unfitted-level-0);\n",
       "  border: .5pt solid var(--sklearn-color-unfitted-level-3);\n",
       "}\n",
       "\n",
       ".sk-estimator-doc-link.fitted span {\n",
       "  /* fitted */\n",
       "  background: var(--sklearn-color-fitted-level-0);\n",
       "  border: var(--sklearn-color-fitted-level-3);\n",
       "}\n",
       "\n",
       ".sk-estimator-doc-link:hover span {\n",
       "  display: block;\n",
       "}\n",
       "\n",
       "/* \"?\"-specific style due to the `<a>` HTML tag */\n",
       "\n",
       "#sk-container-id-1 a.estimator_doc_link {\n",
       "  float: right;\n",
       "  font-size: 1rem;\n",
       "  line-height: 1em;\n",
       "  font-family: monospace;\n",
       "  background-color: var(--sklearn-color-background);\n",
       "  border-radius: 1rem;\n",
       "  height: 1rem;\n",
       "  width: 1rem;\n",
       "  text-decoration: none;\n",
       "  /* unfitted */\n",
       "  color: var(--sklearn-color-unfitted-level-1);\n",
       "  border: var(--sklearn-color-unfitted-level-1) 1pt solid;\n",
       "}\n",
       "\n",
       "#sk-container-id-1 a.estimator_doc_link.fitted {\n",
       "  /* fitted */\n",
       "  border: var(--sklearn-color-fitted-level-1) 1pt solid;\n",
       "  color: var(--sklearn-color-fitted-level-1);\n",
       "}\n",
       "\n",
       "/* On hover */\n",
       "#sk-container-id-1 a.estimator_doc_link:hover {\n",
       "  /* unfitted */\n",
       "  background-color: var(--sklearn-color-unfitted-level-3);\n",
       "  color: var(--sklearn-color-background);\n",
       "  text-decoration: none;\n",
       "}\n",
       "\n",
       "#sk-container-id-1 a.estimator_doc_link.fitted:hover {\n",
       "  /* fitted */\n",
       "  background-color: var(--sklearn-color-fitted-level-3);\n",
       "}\n",
       "</style><div id=\"sk-container-id-1\" class=\"sk-top-container\"><div class=\"sk-text-repr-fallback\"><pre>KNeighborsRegressor()</pre><b>In a Jupyter environment, please rerun this cell to show the HTML representation or trust the notebook. <br />On GitHub, the HTML representation is unable to render, please try loading this page with nbviewer.org.</b></div><div class=\"sk-container\" hidden><div class=\"sk-item\"><div class=\"sk-estimator fitted sk-toggleable\"><input class=\"sk-toggleable__control sk-hidden--visually\" id=\"sk-estimator-id-1\" type=\"checkbox\" checked><label for=\"sk-estimator-id-1\" class=\"sk-toggleable__label fitted sk-toggleable__label-arrow\"><div><div>KNeighborsRegressor</div></div><div><a class=\"sk-estimator-doc-link fitted\" rel=\"noreferrer\" target=\"_blank\" href=\"https://scikit-learn.org/1.6/modules/generated/sklearn.neighbors.KNeighborsRegressor.html\">?<span>Documentation for KNeighborsRegressor</span></a><span class=\"sk-estimator-doc-link fitted\">i<span>Fitted</span></span></div></label><div class=\"sk-toggleable__content fitted\"><pre>KNeighborsRegressor()</pre></div> </div></div></div></div>"
      ],
      "text/plain": [
       "KNeighborsRegressor()"
      ]
     },
     "execution_count": 13,
     "metadata": {},
     "output_type": "execute_result"
    }
   ],
   "source": [
    "from sklearn.neighbors import KNeighborsRegressor\n",
    "knr = KNeighborsRegressor(n_neighbors=5)\n",
    "knr.fit(x_train, y_train)"
   ]
  },
  {
   "cell_type": "markdown",
   "id": "7e6eb74d-9489-4393-9e39-357f0e0d8f4b",
   "metadata": {
    "id": "7e6eb74d-9489-4393-9e39-357f0e0d8f4b"
   },
   "source": [
    "## predict test data"
   ]
  },
  {
   "cell_type": "code",
   "execution_count": 14,
   "id": "46e06bed-54a7-4c17-a278-5e2cb08456bb",
   "metadata": {
    "id": "46e06bed-54a7-4c17-a278-5e2cb08456bb"
   },
   "outputs": [],
   "source": [
    "yhat_test = knr.predict(x_test)"
   ]
  },
  {
   "cell_type": "markdown",
   "id": "5530faa4-6b8f-433c-8bcd-818a4d8f313d",
   "metadata": {
    "id": "5530faa4-6b8f-433c-8bcd-818a4d8f313d"
   },
   "source": [
    "## evaluate the model"
   ]
  },
  {
   "cell_type": "code",
   "execution_count": 15,
   "id": "a250c081-d2b2-489e-aeb0-5d564cc34ae3",
   "metadata": {
    "colab": {
     "base_uri": "https://localhost:8080/"
    },
    "executionInfo": {
     "elapsed": 443,
     "status": "ok",
     "timestamp": 1735761993082,
     "user": {
      "displayName": "Javad Monsefi",
      "userId": "11903795943444044796"
     },
     "user_tz": -210
    },
    "id": "a250c081-d2b2-489e-aeb0-5d564cc34ae3",
    "outputId": "57bfc12e-a2f0-4779-9d8e-e3cd09ec7a23"
   },
   "outputs": [
    {
     "name": "stdout",
     "output_type": "stream",
     "text": [
      "r2-score (train data): 0.4593\n",
      "r2-score (test data): 0.2793\n"
     ]
    }
   ],
   "source": [
    "from sklearn.metrics import r2_score\n",
    "print(\"r2-score (train data): %0.4f\" % r2_score(y_train, knr.predict(x_train)))\n",
    "print(\"r2-score (test data): %0.4f\" % r2_score(y_test, yhat_test))"
   ]
  },
  {
   "cell_type": "code",
   "execution_count": 16,
   "id": "cccf58e1-c0c3-4142-a77e-2b091d5f7b39",
   "metadata": {},
   "outputs": [
    {
     "name": "stdout",
     "output_type": "stream",
     "text": [
      "MSE (train data): 102.08797037086875\n",
      "MAE (train data): 7.8435555555733325\n",
      "MSE (test data): 105.52044444511023\n",
      "MAE (test data): 8.28533333336\n"
     ]
    }
   ],
   "source": [
    "from sklearn.metrics import mean_squared_error\n",
    "from sklearn.metrics import mean_absolute_error\n",
    "print(f\"MSE (train data): {mean_squared_error(y_train, knr.predict(x_train))}\")\n",
    "print(f\"MAE (train data): {mean_absolute_error(y_train, knr.predict(x_train))}\")\n",
    "print(f\"MSE (test data): {mean_squared_error(y_test, yhat_test)}\")\n",
    "print(f\"MAE (test data): {mean_absolute_error(y_test, yhat_test)}\")"
   ]
  },
  {
   "cell_type": "markdown",
   "id": "baa84f18-202b-4bc0-9f24-34e32888c273",
   "metadata": {},
   "source": [
    "## predict new data"
   ]
  },
  {
   "cell_type": "code",
   "execution_count": 17,
   "id": "8cb0869c-ba7b-479a-ab64-7f89779ed2c9",
   "metadata": {},
   "outputs": [
    {
     "data": {
      "text/plain": [
       "array([44.])"
      ]
     },
     "execution_count": 17,
     "metadata": {},
     "output_type": "execute_result"
    }
   ],
   "source": [
    "knr.predict(sc.transform([[16.5, 202, 865]]))"
   ]
  },
  {
   "cell_type": "markdown",
   "id": "GeaPNakLenhs",
   "metadata": {
    "id": "GeaPNakLenhs"
   },
   "source": [
    "## save the model"
   ]
  },
  {
   "cell_type": "code",
   "execution_count": 18,
   "id": "0a9cb928-4e19-41cf-8673-45e5059bd6fa",
   "metadata": {
    "id": "0a9cb928-4e19-41cf-8673-45e5059bd6fa"
   },
   "outputs": [],
   "source": [
    "# import joblib\n",
    "# joblib.dump(knr, 'knr_model.pkl')"
   ]
  },
  {
   "cell_type": "markdown",
   "id": "HN36iP5HepZp",
   "metadata": {
    "id": "HN36iP5HepZp"
   },
   "source": [
    "## load the model"
   ]
  },
  {
   "cell_type": "code",
   "execution_count": 19,
   "id": "DnhyOkMFerOO",
   "metadata": {
    "id": "DnhyOkMFerOO"
   },
   "outputs": [],
   "source": [
    "# import joblib\n",
    "# knr = joblib.load('knr_model.pkl')"
   ]
  }
 ],
 "metadata": {
  "colab": {
   "provenance": []
  },
  "kernelspec": {
   "display_name": "Python 3 (ipykernel)",
   "language": "python",
   "name": "python3"
  },
  "language_info": {
   "codemirror_mode": {
    "name": "ipython",
    "version": 3
   },
   "file_extension": ".py",
   "mimetype": "text/x-python",
   "name": "python",
   "nbconvert_exporter": "python",
   "pygments_lexer": "ipython3",
   "version": "3.13.2"
  }
 },
 "nbformat": 4,
 "nbformat_minor": 5
}
