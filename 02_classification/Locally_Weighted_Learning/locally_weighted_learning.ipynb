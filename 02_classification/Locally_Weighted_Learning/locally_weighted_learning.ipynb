{
 "cells": [
  {
   "cell_type": "code",
   "execution_count": null,
   "id": "6794bb47-81ef-4bd0-8576-5069fb468ce2",
   "metadata": {},
   "outputs": [],
   "source": [
    "# Locally Weighted Learning (LWL), also known as Locally Weighted Regression (LWR) or Lazy Learning, is a type of \n",
    "# memory-based learning where the model makes predictions based on the data points that are close to the point of \n",
    "# interest. It’s particularly useful for non-linear and complex datasets where traditional methods might struggle. \n",
    "# The algorithm gives more weight to the nearby points and less weight to the distant points when making predictions."
   ]
  },
  {
   "cell_type": "markdown",
   "id": "db1cb9eb-62aa-4035-8a04-bf7e694a2155",
   "metadata": {},
   "source": [
    "# LWL"
   ]
  },
  {
   "cell_type": "code",
   "execution_count": 3,
   "id": "5d72d1c4-488b-4e59-be05-b897cdf884ce",
   "metadata": {},
   "outputs": [
    {
     "name": "stdout",
     "output_type": "stream",
     "text": [
      "Mean Squared Error: 0.06\n"
     ]
    }
   ],
   "source": [
    "import numpy as np\n",
    "import pandas as pd\n",
    "from sklearn.model_selection import train_test_split\n",
    "from sklearn.preprocessing import StandardScaler\n",
    "from sklearn.linear_model import Ridge\n",
    "from sklearn.metrics import mean_squared_error\n",
    "\n",
    "# Load the dataset (assuming it's in a CSV file)\n",
    "df = pd.read_csv('Social_Network_Ads.csv')\n",
    "\n",
    "# Define the feature columns and target column\n",
    "X = df[['Age', 'EstimatedSalary']].values\n",
    "y = df['Purchased'].values\n",
    "\n",
    "# Split the dataset into training and testing sets\n",
    "X_train, X_test, y_train, y_test = train_test_split(X, y, test_size=0.2, random_state=42)\n",
    "\n",
    "# Standardize the features\n",
    "scaler = StandardScaler()\n",
    "X_train_scaled = scaler.fit_transform(X_train)\n",
    "X_test_scaled = scaler.transform(X_test)\n",
    "\n",
    "def locally_weighted_learning(X_train, y_train, X_test, tau=1.0):\n",
    "    m, n = X_test.shape\n",
    "    y_pred = np.zeros(m)\n",
    "\n",
    "    for i in range(m):\n",
    "        x = X_test[i]\n",
    "        weights = np.exp(-np.sum((X_train - x) ** 2, axis=1) / (2 * tau ** 2))\n",
    "        W = np.diag(weights)\n",
    "\n",
    "        XTWX = X_train.T @ W @ X_train\n",
    "        XTWy = X_train.T @ W @ y_train\n",
    "        theta = np.linalg.solve(XTWX, XTWy)\n",
    "        y_pred[i] = x @ theta\n",
    "\n",
    "    return y_pred\n",
    "\n",
    "# Make predictions on the test data\n",
    "y_pred = locally_weighted_learning(X_train_scaled, y_train, X_test_scaled)\n",
    "\n",
    "# Evaluate the model\n",
    "mse = mean_squared_error(y_test, y_pred)\n",
    "print(f\"Mean Squared Error: {mse:.2f}\")"
   ]
  }
 ],
 "metadata": {
  "kernelspec": {
   "display_name": "Python [conda env:base] *",
   "language": "python",
   "name": "conda-base-py"
  },
  "language_info": {
   "codemirror_mode": {
    "name": "ipython",
    "version": 3
   },
   "file_extension": ".py",
   "mimetype": "text/x-python",
   "name": "python",
   "nbconvert_exporter": "python",
   "pygments_lexer": "ipython3",
   "version": "3.12.7"
  }
 },
 "nbformat": 4,
 "nbformat_minor": 5
}
