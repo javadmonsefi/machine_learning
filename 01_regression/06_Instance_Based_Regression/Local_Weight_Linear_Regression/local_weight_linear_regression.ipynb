{
 "cells": [
  {
   "cell_type": "markdown",
   "metadata": {
    "id": "tNZBDB4Cg-6G"
   },
   "source": [
    "# LWLR"
   ]
  },
  {
   "cell_type": "code",
   "execution_count": 1,
   "metadata": {
    "colab": {
     "base_uri": "https://localhost:8080/",
     "height": 73
    },
    "executionInfo": {
     "elapsed": 12729,
     "status": "ok",
     "timestamp": 1735762641474,
     "user": {
      "displayName": "Javad Monsefi",
      "userId": "11903795943444044796"
     },
     "user_tz": -210
    },
    "id": "s-19qYz_gzqb",
    "outputId": "a00e057f-dc3d-45bf-d7de-6fef596c3492"
   },
   "outputs": [],
   "source": [
    "# from google.colab import files\n",
    "# up = files.upload()"
   ]
  },
  {
   "cell_type": "code",
   "execution_count": 12,
   "metadata": {},
   "outputs": [
    {
     "name": "stdout",
     "output_type": "stream",
     "text": [
      "Model initialized with tau = 1.0\n",
      "R² score: 0.9249316117356162\n"
     ]
    }
   ],
   "source": [
    "import numpy as np\n",
    "import pandas as pd\n",
    "from sklearn.model_selection import train_test_split\n",
    "from sklearn.preprocessing import StandardScaler\n",
    "\n",
    "class LocallyWeightedLinearRegression:\n",
    "    def __init__(self, tau=1.0):\n",
    "        self.tau = tau\n",
    "\n",
    "    def local_weight(self, x0, X):\n",
    "        # Calculate weights using Gaussian kernel\n",
    "        weights = np.exp(-np.sum((X - x0) ** 2, axis=1) / (2 * self.tau ** 2))\n",
    "        return np.diag(weights)\n",
    "\n",
    "    def predict(self, X, y, x_query):\n",
    "        # Calculate weights for the query point\n",
    "        W = self.local_weight(x_query, X)\n",
    "\n",
    "        # Closed-form solution for weighted linear regression\n",
    "        XTWX = X.T @ W @ X\n",
    "        XTWy = X.T @ W @ y\n",
    "        theta = np.linalg.inv(XTWX) @ XTWy\n",
    "\n",
    "        # Predict the value\n",
    "        return x_query @ theta\n",
    "\n",
    "    def predict_all(self, X, y, X_queries):\n",
    "        # Predict the outputs for multiple query points\n",
    "        predictions = []\n",
    "        for x_query in X_queries:\n",
    "            predictions.append(self.predict(X, y, x_query))\n",
    "        return np.array(predictions)\n",
    "\n",
    "\n",
    "# Main function\n",
    "if __name__ == \"__main__\":\n",
    "    # Import dataset\n",
    "    df = pd.read_csv('data.csv')  # Replace with your file path\n",
    "\n",
    "    # define X , y\n",
    "    X = df[['A', 'B', 'C']].values  # Adjust columns as per your dataset\n",
    "    y = df['T'].values\n",
    "\n",
    "    # Spliting\n",
    "    X_train, X_test, y_train, y_test = train_test_split(X, y, test_size=0.2, random_state=42)\n",
    "\n",
    "    # scaling\n",
    "    scaler = StandardScaler()\n",
    "    X_train_scaled = scaler.fit_transform(X_train)\n",
    "    X_test_scaled = scaler.transform(X_test)\n",
    "\n",
    "    # Add bias term (intercept) to features\n",
    "    X_train_bias = np.hstack((np.ones((X_train_scaled.shape[0], 1)), X_train_scaled))\n",
    "    X_test_bias = np.hstack((np.ones((X_test_scaled.shape[0], 1)), X_test_scaled))\n",
    "\n",
    "    # Fit the LWLR model\n",
    "    tau = 1.0  # Bandwidth parameter\n",
    "    lwlr = LocallyWeightedLinearRegression(tau=tau)\n",
    "    print(\"Model initialized with tau =\", tau)\n",
    "\n",
    "    # Predict values on test set\n",
    "    y_pred = lwlr.predict_all(X_train_bias, y_train, X_test_bias)\n",
    "\n",
    "    # Evaluate the model (R² score)\n",
    "    r2 = r2_score(y_test, y_pred)\n",
    "    print(\"R² score:\", r2)"
   ]
  }
 ],
 "metadata": {
  "colab": {
   "authorship_tag": "ABX9TyMjsTUjHqShjOVkIEeV+TOi",
   "provenance": []
  },
  "kernelspec": {
   "display_name": "Python [conda env:base] *",
   "language": "python",
   "name": "conda-base-py"
  },
  "language_info": {
   "codemirror_mode": {
    "name": "ipython",
    "version": 3
   },
   "file_extension": ".py",
   "mimetype": "text/x-python",
   "name": "python",
   "nbconvert_exporter": "python",
   "pygments_lexer": "ipython3",
   "version": "3.12.7"
  }
 },
 "nbformat": 4,
 "nbformat_minor": 4
}
