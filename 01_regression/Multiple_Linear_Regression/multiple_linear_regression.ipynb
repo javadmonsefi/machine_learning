{
 "cells": [
  {
   "cell_type": "markdown",
   "id": "52a8f891-b8f4-4f4d-9cca-815193b81419",
   "metadata": {
    "id": "52a8f891-b8f4-4f4d-9cca-815193b81419"
   },
   "source": [
    "# Multiple Linear Regression"
   ]
  },
  {
   "cell_type": "code",
   "execution_count": 1,
   "id": "W3alxMk3zFKm",
   "metadata": {
    "colab": {
     "base_uri": "https://localhost:8080/",
     "height": 73
    },
    "executionInfo": {
     "elapsed": 18857,
     "status": "ok",
     "timestamp": 1735669489922,
     "user": {
      "displayName": "Javad Monsefi",
      "userId": "11903795943444044796"
     },
     "user_tz": -210
    },
    "id": "W3alxMk3zFKm",
    "outputId": "94d61b2a-d49e-4d8f-bb13-75d424b8e99c"
   },
   "outputs": [],
   "source": [
    "# from google.colab import files\n",
    "# up = files.upload()"
   ]
  },
  {
   "cell_type": "markdown",
   "id": "cbec918d-c091-41ce-9635-47836f00f041",
   "metadata": {
    "id": "cbec918d-c091-41ce-9635-47836f00f041"
   },
   "source": [
    "## import dataset"
   ]
  },
  {
   "cell_type": "code",
   "execution_count": 2,
   "id": "1941ccbf-97e9-405f-b361-4696c8ec01f5",
   "metadata": {
    "colab": {
     "base_uri": "https://localhost:8080/",
     "height": 143
    },
    "executionInfo": {
     "elapsed": 19,
     "status": "ok",
     "timestamp": 1735669544748,
     "user": {
      "displayName": "Javad Monsefi",
      "userId": "11903795943444044796"
     },
     "user_tz": -210
    },
    "id": "1941ccbf-97e9-405f-b361-4696c8ec01f5",
    "outputId": "890ff5b6-373d-4a96-b951-deac8760b854"
   },
   "outputs": [
    {
     "data": {
      "text/html": [
       "<div>\n",
       "<style scoped>\n",
       "    .dataframe tbody tr th:only-of-type {\n",
       "        vertical-align: middle;\n",
       "    }\n",
       "\n",
       "    .dataframe tbody tr th {\n",
       "        vertical-align: top;\n",
       "    }\n",
       "\n",
       "    .dataframe thead th {\n",
       "        text-align: right;\n",
       "    }\n",
       "</style>\n",
       "<table border=\"1\" class=\"dataframe\">\n",
       "  <thead>\n",
       "    <tr style=\"text-align: right;\">\n",
       "      <th></th>\n",
       "      <th>A</th>\n",
       "      <th>B</th>\n",
       "      <th>C</th>\n",
       "      <th>T</th>\n",
       "    </tr>\n",
       "  </thead>\n",
       "  <tbody>\n",
       "    <tr>\n",
       "      <th>0</th>\n",
       "      <td>2.0</td>\n",
       "      <td>4</td>\n",
       "      <td>8.5</td>\n",
       "      <td>196</td>\n",
       "    </tr>\n",
       "    <tr>\n",
       "      <th>1</th>\n",
       "      <td>2.4</td>\n",
       "      <td>4</td>\n",
       "      <td>9.6</td>\n",
       "      <td>221</td>\n",
       "    </tr>\n",
       "    <tr>\n",
       "      <th>2</th>\n",
       "      <td>1.5</td>\n",
       "      <td>4</td>\n",
       "      <td>5.9</td>\n",
       "      <td>136</td>\n",
       "    </tr>\n",
       "    <tr>\n",
       "      <th>3</th>\n",
       "      <td>3.5</td>\n",
       "      <td>6</td>\n",
       "      <td>11.1</td>\n",
       "      <td>255</td>\n",
       "    </tr>\n",
       "    <tr>\n",
       "      <th>4</th>\n",
       "      <td>3.5</td>\n",
       "      <td>6</td>\n",
       "      <td>10.6</td>\n",
       "      <td>244</td>\n",
       "    </tr>\n",
       "  </tbody>\n",
       "</table>\n",
       "</div>"
      ],
      "text/plain": [
       "     A  B     C    T\n",
       "0  2.0  4   8.5  196\n",
       "1  2.4  4   9.6  221\n",
       "2  1.5  4   5.9  136\n",
       "3  3.5  6  11.1  255\n",
       "4  3.5  6  10.6  244"
      ]
     },
     "execution_count": 2,
     "metadata": {},
     "output_type": "execute_result"
    }
   ],
   "source": [
    "import pandas as pd\n",
    "df = pd.read_csv('dataset.csv')\n",
    "df = df[['A', 'B', 'C', 'T']]\n",
    "df.head()"
   ]
  },
  {
   "cell_type": "code",
   "execution_count": 3,
   "id": "491158b3-5b0e-4562-ad0d-d318513fb338",
   "metadata": {
    "id": "491158b3-5b0e-4562-ad0d-d318513fb338",
    "outputId": "e22728ae-7c23-4fac-8d19-32bf8a075d2a"
   },
   "outputs": [],
   "source": [
    "# df.info()"
   ]
  },
  {
   "cell_type": "markdown",
   "id": "lLXXJvH7_099",
   "metadata": {
    "id": "lLXXJvH7_099"
   },
   "source": [
    "# cleaning"
   ]
  },
  {
   "cell_type": "code",
   "execution_count": 4,
   "id": "66B5HBl9_412",
   "metadata": {
    "id": "66B5HBl9_412"
   },
   "outputs": [],
   "source": [
    "# clean the data"
   ]
  },
  {
   "cell_type": "markdown",
   "id": "HMNndbzN_3Ek",
   "metadata": {
    "id": "HMNndbzN_3Ek"
   },
   "source": [
    "# encoding"
   ]
  },
  {
   "cell_type": "code",
   "execution_count": 5,
   "id": "7Xhf3Ry0_7LY",
   "metadata": {
    "id": "7Xhf3Ry0_7LY"
   },
   "outputs": [],
   "source": [
    "# encode the data"
   ]
  },
  {
   "cell_type": "markdown",
   "id": "8b22a6a9-8cd5-4301-96de-053697d9efe4",
   "metadata": {
    "id": "8b22a6a9-8cd5-4301-96de-053697d9efe4"
   },
   "source": [
    "# define x , y"
   ]
  },
  {
   "cell_type": "code",
   "execution_count": 6,
   "id": "015aaabe-b2d5-4a7d-b85a-d151f5b800a8",
   "metadata": {
    "id": "015aaabe-b2d5-4a7d-b85a-d151f5b800a8"
   },
   "outputs": [],
   "source": [
    "import numpy as np\n",
    "x = np.array(df[['A', 'B', 'C']])\n",
    "y = np.array(df['T'])\n",
    "\n",
    "# x = df[['ENGINESIZE', 'CYLINDERS', 'FUELCONSUMPTION_COMB']].values\n",
    "# y = df['CO2EMISSIONS'].values"
   ]
  },
  {
   "cell_type": "code",
   "execution_count": 7,
   "id": "66ba856c-dac0-4d9b-b64e-8886b1c1916a",
   "metadata": {
    "colab": {
     "base_uri": "https://localhost:8080/"
    },
    "executionInfo": {
     "elapsed": 10,
     "status": "ok",
     "timestamp": 1735669580520,
     "user": {
      "displayName": "Javad Monsefi",
      "userId": "11903795943444044796"
     },
     "user_tz": -210
    },
    "id": "66ba856c-dac0-4d9b-b64e-8886b1c1916a",
    "outputId": "596516e6-bfcc-4862-9d28-9b9e97ecde98"
   },
   "outputs": [
    {
     "data": {
      "text/plain": [
       "array([196, 221, 136, 255, 244], dtype=int64)"
      ]
     },
     "execution_count": 7,
     "metadata": {},
     "output_type": "execute_result"
    }
   ],
   "source": [
    "y[:5]"
   ]
  },
  {
   "cell_type": "markdown",
   "id": "9a44368b-2225-4c3b-924b-47943f9c4630",
   "metadata": {
    "id": "9a44368b-2225-4c3b-924b-47943f9c4630"
   },
   "source": [
    "## spliting"
   ]
  },
  {
   "cell_type": "code",
   "execution_count": 8,
   "id": "70e4b817-7d0c-407c-9352-b71953538823",
   "metadata": {
    "id": "70e4b817-7d0c-407c-9352-b71953538823"
   },
   "outputs": [],
   "source": [
    "from sklearn.model_selection import train_test_split\n",
    "x_train, x_test, y_train, y_test = train_test_split(x, y, test_size=0.25)"
   ]
  },
  {
   "cell_type": "markdown",
   "id": "5f1dd223-ec10-45cf-868c-ffb599addb23",
   "metadata": {
    "id": "5f1dd223-ec10-45cf-868c-ffb599addb23"
   },
   "source": [
    "## scaling"
   ]
  },
  {
   "cell_type": "code",
   "execution_count": 9,
   "id": "be3397d3-6f8f-4281-9a76-f13cc3a1d2ec",
   "metadata": {
    "id": "be3397d3-6f8f-4281-9a76-f13cc3a1d2ec"
   },
   "outputs": [],
   "source": [
    "from sklearn.preprocessing import StandardScaler\n",
    "sc = StandardScaler().fit(x_train)"
   ]
  },
  {
   "cell_type": "code",
   "execution_count": 10,
   "id": "254926ce-2b29-4248-9851-c18163b46078",
   "metadata": {
    "id": "254926ce-2b29-4248-9851-c18163b46078"
   },
   "outputs": [],
   "source": [
    "x_train = sc.transform(x_train)\n",
    "x_test = sc.transform(x_test)"
   ]
  },
  {
   "cell_type": "markdown",
   "id": "2155b128-8985-4f88-8c0a-4b229b637ba4",
   "metadata": {
    "id": "2155b128-8985-4f88-8c0a-4b229b637ba4"
   },
   "source": [
    "## fit train data"
   ]
  },
  {
   "cell_type": "code",
   "execution_count": 11,
   "id": "vuMH7LRA-SBR",
   "metadata": {
    "id": "vuMH7LRA-SBR"
   },
   "outputs": [],
   "source": [
    "# def param\n",
    "# fit_intercept=True, copy_X=True, n_jobs=None, positive=False"
   ]
  },
  {
   "cell_type": "code",
   "execution_count": null,
   "id": "f40071fe-15ac-4e76-bb8c-46f301507204",
   "metadata": {
    "id": "f40071fe-15ac-4e76-bb8c-46f301507204"
   },
   "outputs": [],
   "source": [
    "from sklearn.linear_model import LinearRegression\n",
    "mlr = LinearRegression()\n",
    "mlr.fit(x_train, y_train)"
   ]
  },
  {
   "cell_type": "code",
   "execution_count": 14,
   "id": "152d2254-0f8e-421b-b602-735f3e7c1861",
   "metadata": {
    "colab": {
     "base_uri": "https://localhost:8080/"
    },
    "executionInfo": {
     "elapsed": 6,
     "status": "ok",
     "timestamp": 1735669689387,
     "user": {
      "displayName": "Javad Monsefi",
      "userId": "11903795943444044796"
     },
     "user_tz": -210
    },
    "id": "152d2254-0f8e-421b-b602-735f3e7c1861",
    "outputId": "831a06d9-ca45-48b0-afd7-af860e08ebe3"
   },
   "outputs": [
    {
     "name": "stdout",
     "output_type": "stream",
     "text": [
      "256.2187499999999\n",
      "[16.20130859 12.55446815 33.38071933]\n"
     ]
    }
   ],
   "source": [
    "print(mlr.intercept_)\n",
    "print(mlr.coef_)"
   ]
  },
  {
   "cell_type": "code",
   "execution_count": 15,
   "id": "11d283b7-45ae-42af-a502-f793abd731fb",
   "metadata": {},
   "outputs": [],
   "source": [
    "### K-fold cross validation\n",
    "\n",
    "# from sklearn.linear_model import LinearRegression\n",
    "# from sklearn.model_selection import GridSearchCV\n",
    "\n",
    "# parameters = {\n",
    "#     '': [],\n",
    "#     '': []\n",
    "# }\n",
    "\n",
    "# lr = LinearRegression()\n",
    "# gs = GridSearchCV(estimator=lr, param_grid=parameters, cv=5)\n",
    "\n",
    "# gs.fit(x_train, y_train)\n",
    "\n",
    "# best_params = gs.best_params_\n",
    "# print(best_params)"
   ]
  },
  {
   "cell_type": "markdown",
   "id": "d81b3d5e-51b0-4da4-a376-f7c60915b397",
   "metadata": {
    "id": "d81b3d5e-51b0-4da4-a376-f7c60915b397"
   },
   "source": [
    "## predict test data"
   ]
  },
  {
   "cell_type": "code",
   "execution_count": 16,
   "id": "98c49e67-24a1-47f6-a2b9-cfaac48e8dd2",
   "metadata": {
    "id": "98c49e67-24a1-47f6-a2b9-cfaac48e8dd2"
   },
   "outputs": [],
   "source": [
    "yhat_test = mlr.predict(x_test)"
   ]
  },
  {
   "cell_type": "markdown",
   "id": "30054e56-985c-4e00-a839-555f24ad7df9",
   "metadata": {
    "id": "30054e56-985c-4e00-a839-555f24ad7df9"
   },
   "source": [
    "## evaluate the model"
   ]
  },
  {
   "cell_type": "code",
   "execution_count": 17,
   "id": "725a9b22-b3d7-49eb-853a-45ea063af460",
   "metadata": {
    "colab": {
     "base_uri": "https://localhost:8080/"
    },
    "executionInfo": {
     "elapsed": 791,
     "status": "ok",
     "timestamp": 1735669705097,
     "user": {
      "displayName": "Javad Monsefi",
      "userId": "11903795943444044796"
     },
     "user_tz": -210
    },
    "id": "725a9b22-b3d7-49eb-853a-45ea063af460",
    "outputId": "64dedcca-c621-4e1c-fe03-8f72748f748b"
   },
   "outputs": [
    {
     "name": "stdout",
     "output_type": "stream",
     "text": [
      "r2-score: 0.87\n"
     ]
    }
   ],
   "source": [
    "from sklearn.metrics import r2_score\n",
    "print(\"r2-score: %0.2f\" % r2_score(y_test, yhat_test))"
   ]
  },
  {
   "cell_type": "code",
   "execution_count": 22,
   "id": "1d3ad503-59db-4907-bedd-b885de917ca1",
   "metadata": {
    "colab": {
     "base_uri": "https://localhost:8080/"
    },
    "executionInfo": {
     "elapsed": 8,
     "status": "ok",
     "timestamp": 1735669707771,
     "user": {
      "displayName": "Javad Monsefi",
      "userId": "11903795943444044796"
     },
     "user_tz": -210
    },
    "id": "1d3ad503-59db-4907-bedd-b885de917ca1",
    "outputId": "adf632b2-4289-48f8-cd77-58cd91da8085"
   },
   "outputs": [
    {
     "name": "stdout",
     "output_type": "stream",
     "text": [
      "MSE: 534.3107477423459\n",
      "MAE: 16.910810786461692\n"
     ]
    }
   ],
   "source": [
    "from sklearn.metrics import mean_squared_error\n",
    "from sklearn.metrics import mean_absolute_error\n",
    "print(f\"MSE: {mean_squared_error(y_test, yhat_test)}\")\n",
    "print(f\"MAE: {mean_absolute_error(y_test, yhat_test)}\")"
   ]
  },
  {
   "cell_type": "markdown",
   "id": "b87c2457-39bc-40a5-816e-1207105e2a07",
   "metadata": {
    "id": "b87c2457-39bc-40a5-816e-1207105e2a07"
   },
   "source": [
    "## predict new data"
   ]
  },
  {
   "cell_type": "code",
   "execution_count": 19,
   "id": "045137f8-8807-4bd1-8ece-d830e7b132b3",
   "metadata": {
    "colab": {
     "base_uri": "https://localhost:8080/"
    },
    "executionInfo": {
     "elapsed": 8,
     "status": "ok",
     "timestamp": 1735669712492,
     "user": {
      "displayName": "Javad Monsefi",
      "userId": "11903795943444044796"
     },
     "user_tz": -210
    },
    "id": "045137f8-8807-4bd1-8ece-d830e7b132b3",
    "outputId": "eda9c3eb-4ca1-4b94-c738-0ae8eb9378e1"
   },
   "outputs": [
    {
     "data": {
      "text/plain": [
       "array([198.32166017])"
      ]
     },
     "execution_count": 19,
     "metadata": {},
     "output_type": "execute_result"
    }
   ],
   "source": [
    "mlr.predict(sc.transform([[2, 4, 8.5]]))"
   ]
  },
  {
   "cell_type": "markdown",
   "id": "ceUXLhcd-hdB",
   "metadata": {
    "id": "ceUXLhcd-hdB"
   },
   "source": [
    "## save the model"
   ]
  },
  {
   "cell_type": "code",
   "execution_count": 20,
   "id": "loWKUvNM-jL-",
   "metadata": {
    "id": "loWKUvNM-jL-"
   },
   "outputs": [],
   "source": [
    "# import joblib\n",
    "# joblib.dump(mlr, 'mlr_model.pkl')"
   ]
  },
  {
   "cell_type": "markdown",
   "id": "TZn647WT-juu",
   "metadata": {
    "id": "TZn647WT-juu"
   },
   "source": [
    "## load the model"
   ]
  },
  {
   "cell_type": "code",
   "execution_count": 21,
   "id": "IO-inNQv-lCz",
   "metadata": {
    "id": "IO-inNQv-lCz"
   },
   "outputs": [],
   "source": [
    "# import joblib\n",
    "# mlr = joblib.load('mlr_model.pkl')"
   ]
  }
 ],
 "metadata": {
  "colab": {
   "provenance": []
  },
  "kernelspec": {
   "display_name": "base",
   "language": "python",
   "name": "python3"
  },
  "language_info": {
   "codemirror_mode": {
    "name": "ipython",
    "version": 3
   },
   "file_extension": ".py",
   "mimetype": "text/x-python",
   "name": "python",
   "nbconvert_exporter": "python",
   "pygments_lexer": "ipython3",
   "version": "3.12.7"
  }
 },
 "nbformat": 4,
 "nbformat_minor": 5
}
