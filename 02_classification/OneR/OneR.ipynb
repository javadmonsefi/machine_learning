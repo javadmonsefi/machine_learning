{
 "cells": [
  {
   "cell_type": "code",
   "execution_count": null,
   "id": "6794bb47-81ef-4bd0-8576-5069fb468ce2",
   "metadata": {},
   "outputs": [],
   "source": [
    "# OneR, short for \"One Rule,\" is a simple yet effective classification algorithm that generates a single rule for each \n",
    "# predictor in the dataset and selects the rule with the lowest error rate. It's often used as a baseline model in \n",
    "# machine learning because of its simplicity and ease of interpretation."
   ]
  },
  {
   "cell_type": "markdown",
   "id": "db1cb9eb-62aa-4035-8a04-bf7e694a2155",
   "metadata": {},
   "source": [
    "# OneR"
   ]
  },
  {
   "cell_type": "code",
   "execution_count": null,
   "id": "5d72d1c4-488b-4e59-be05-b897cdf884ce",
   "metadata": {},
   "outputs": [],
   "source": [
    "import pandas as pd\n",
    "from sklearn.model_selection import train_test_split\n",
    "from sklearn.preprocessing import StandardScaler\n",
    "from sklearn.metrics import accuracy_score, classification_report\n",
    "\n",
    "# Load the dataset (assuming it's in a CSV file)\n",
    "df = pd.read_csv('your_dataset.csv')\n",
    "\n",
    "# Define the feature columns and target column\n",
    "X = df[['A', 'B']].values\n",
    "y = df['C'].values\n",
    "\n",
    "# Split the dataset into training and testing sets\n",
    "X_train, X_test, y_train, y_test = train_test_split(X, y, test_size=0.2, random_state=42)\n",
    "\n",
    "# Implement the OneR algorithm\n",
    "class OneRClassifier:\n",
    "    def __init__(self):\n",
    "        self.best_rule = None\n",
    "\n",
    "    def fit(self, X, y):\n",
    "        min_error = float('inf')\n",
    "        best_rule = None\n",
    "\n",
    "        for col in range(X.shape[1]):\n",
    "            values = X[:, col]\n",
    "            rules = {}\n",
    "            for value in set(values):\n",
    "                classes, counts = np.unique(y[values == value], return_counts=True)\n",
    "                rule_class = classes[np.argmax(counts)]\n",
    "                rules[value] = rule_class\n",
    "\n",
    "            error = np.sum([1 for i in range(len(y)) if rules[values[i]] != y[i]])\n",
    "            if error < min_error:\n",
    "                min_error = error\n",
    "                best_rule = (col, rules)\n",
    "\n",
    "        self.best_rule = best_rule\n",
    "\n",
    "    def predict(self, X):\n",
    "        col, rules = self.best_rule\n",
    "        values = X[:, col]\n",
    "        return np.array([rules[value] for value in values])\n",
    "\n",
    "# Initialize and train the OneR classifier\n",
    "one_r = OneRClassifier()\n",
    "one_r.fit(X_train, y_train)\n",
    "\n",
    "# Make predictions on the test data\n",
    "y_pred = one_r.predict(X_test)\n",
    "\n",
    "# Evaluate the model\n",
    "accuracy = accuracy_score(y_test, y_pred)\n",
    "print(f\"Accuracy: {accuracy:.2f}\")\n",
    "print(classification_report(y_test, y_pred))"
   ]
  }
 ],
 "metadata": {
  "kernelspec": {
   "display_name": "Python 3 (ipykernel)",
   "language": "python",
   "name": "python3"
  },
  "language_info": {
   "codemirror_mode": {
    "name": "ipython",
    "version": 3
   },
   "file_extension": ".py",
   "mimetype": "text/x-python",
   "name": "python",
   "nbconvert_exporter": "python",
   "pygments_lexer": "ipython3",
   "version": "3.11.5"
  }
 },
 "nbformat": 4,
 "nbformat_minor": 5
}
