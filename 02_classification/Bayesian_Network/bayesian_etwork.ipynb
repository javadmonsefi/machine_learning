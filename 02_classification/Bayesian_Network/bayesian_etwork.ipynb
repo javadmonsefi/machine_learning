{
 "cells": [
  {
   "cell_type": "code",
   "execution_count": null,
   "id": "6794bb47-81ef-4bd0-8576-5069fb468ce2",
   "metadata": {},
   "outputs": [],
   "source": [
    "# A Bayesian Network (also known as a Bayesian Belief Network, BBN, or probabilistic directed acyclic graphical model) \n",
    "# is a statistical model that represents a set of variables and their conditional dependencies through a directed \n",
    "# acyclic graph (DAG). \n",
    "# It is widely used for reasoning and decision-making under uncertainty in various fields such as machine learning, \n",
    "# medical diagnosis, and natural language processing."
   ]
  },
  {
   "cell_type": "markdown",
   "id": "db1cb9eb-62aa-4035-8a04-bf7e694a2155",
   "metadata": {},
   "source": [
    "# Bayesian Belief Network (BBN)"
   ]
  },
  {
   "cell_type": "code",
   "execution_count": null,
   "id": "5d72d1c4-488b-4e59-be05-b897cdf884ce",
   "metadata": {},
   "outputs": [],
   "source": [
    "import pandas as pd\n",
    "from pgmpy.models import BayesianNetwork\n",
    "from pgmpy.estimators import MaximumLikelihoodEstimator, BayesianEstimator\n",
    "from pgmpy.inference import VariableElimination\n",
    "\n",
    "# Load the dataset (assuming it's in a CSV file)\n",
    "df = pd.read_csv('your_dataset.csv')\n",
    "\n",
    "# Define the structure of the Bayesian Network\n",
    "# For example, a simple network structure\n",
    "model = BayesianNetwork([('A', 'C'), ('B', 'C')])\n",
    "\n",
    "# Fit the model to the data\n",
    "model.fit(df, estimator=MaximumLikelihoodEstimator)\n",
    "\n",
    "# Perform inference\n",
    "inference = VariableElimination(model)\n",
    "query_result = inference.query(variables=['C'], evidence={'A': 1, 'B': 0})\n",
    "\n",
    "print(query_result)\n"
   ]
  }
 ],
 "metadata": {
  "kernelspec": {
   "display_name": "Python [conda env:base] *",
   "language": "python",
   "name": "conda-base-py"
  },
  "language_info": {
   "codemirror_mode": {
    "name": "ipython",
    "version": 3
   },
   "file_extension": ".py",
   "mimetype": "text/x-python",
   "name": "python",
   "nbconvert_exporter": "python",
   "pygments_lexer": "ipython3",
   "version": "3.12.7"
  }
 },
 "nbformat": 4,
 "nbformat_minor": 5
}
