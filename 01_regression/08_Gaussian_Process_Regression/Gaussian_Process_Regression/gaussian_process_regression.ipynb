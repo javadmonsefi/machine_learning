{
 "cells": [
  {
   "cell_type": "markdown",
   "id": "3af58c1e-d890-4e33-854c-875904cbb0a9",
   "metadata": {
    "id": "3af58c1e-d890-4e33-854c-875904cbb0a9"
   },
   "source": [
    "# Gaussian Process Regression"
   ]
  },
  {
   "cell_type": "code",
   "execution_count": 2,
   "id": "rWIcPivRoH02",
   "metadata": {
    "id": "rWIcPivRoH02"
   },
   "outputs": [],
   "source": [
    "# from google.colab import files\n",
    "# up = files.upload()"
   ]
  },
  {
   "cell_type": "markdown",
   "id": "21d3ea5f-95ca-4666-99e6-09b1301ecd32",
   "metadata": {
    "id": "21d3ea5f-95ca-4666-99e6-09b1301ecd32"
   },
   "source": [
    "## import dataset"
   ]
  },
  {
   "cell_type": "code",
   "execution_count": 4,
   "id": "c64743f2-acd3-40b1-840e-2cc91e17c469",
   "metadata": {
    "id": "c64743f2-acd3-40b1-840e-2cc91e17c469"
   },
   "outputs": [
    {
     "data": {
      "text/html": [
       "<div>\n",
       "<style scoped>\n",
       "    .dataframe tbody tr th:only-of-type {\n",
       "        vertical-align: middle;\n",
       "    }\n",
       "\n",
       "    .dataframe tbody tr th {\n",
       "        vertical-align: top;\n",
       "    }\n",
       "\n",
       "    .dataframe thead th {\n",
       "        text-align: right;\n",
       "    }\n",
       "</style>\n",
       "<table border=\"1\" class=\"dataframe\">\n",
       "  <thead>\n",
       "    <tr style=\"text-align: right;\">\n",
       "      <th></th>\n",
       "      <th>A</th>\n",
       "      <th>T</th>\n",
       "    </tr>\n",
       "  </thead>\n",
       "  <tbody>\n",
       "    <tr>\n",
       "      <th>0</th>\n",
       "      <td>2.0</td>\n",
       "      <td>196</td>\n",
       "    </tr>\n",
       "    <tr>\n",
       "      <th>1</th>\n",
       "      <td>2.4</td>\n",
       "      <td>221</td>\n",
       "    </tr>\n",
       "    <tr>\n",
       "      <th>2</th>\n",
       "      <td>1.5</td>\n",
       "      <td>136</td>\n",
       "    </tr>\n",
       "  </tbody>\n",
       "</table>\n",
       "</div>"
      ],
      "text/plain": [
       "     A    T\n",
       "0  2.0  196\n",
       "1  2.4  221\n",
       "2  1.5  136"
      ]
     },
     "execution_count": 4,
     "metadata": {},
     "output_type": "execute_result"
    }
   ],
   "source": [
    "import pandas as pd\n",
    "df = pd.read_csv('s.csv')\n",
    "df.head(3)"
   ]
  },
  {
   "cell_type": "code",
   "execution_count": 5,
   "id": "fo248DshoOS9",
   "metadata": {
    "id": "fo248DshoOS9"
   },
   "outputs": [
    {
     "name": "stdout",
     "output_type": "stream",
     "text": [
      "<class 'pandas.core.frame.DataFrame'>\n",
      "RangeIndex: 1067 entries, 0 to 1066\n",
      "Data columns (total 2 columns):\n",
      " #   Column  Non-Null Count  Dtype  \n",
      "---  ------  --------------  -----  \n",
      " 0   A       1067 non-null   float64\n",
      " 1   T       1067 non-null   int64  \n",
      "dtypes: float64(1), int64(1)\n",
      "memory usage: 16.8 KB\n"
     ]
    }
   ],
   "source": [
    "df.info()"
   ]
  },
  {
   "cell_type": "markdown",
   "id": "80DH0uY3oQAZ",
   "metadata": {
    "id": "80DH0uY3oQAZ"
   },
   "source": [
    "## cleaning"
   ]
  },
  {
   "cell_type": "code",
   "execution_count": 7,
   "id": "WIlTqOcQoRaU",
   "metadata": {
    "id": "WIlTqOcQoRaU"
   },
   "outputs": [],
   "source": [
    "# clean the data"
   ]
  },
  {
   "cell_type": "markdown",
   "id": "1AngeB0VobX_",
   "metadata": {
    "id": "1AngeB0VobX_"
   },
   "source": [
    "## encoding"
   ]
  },
  {
   "cell_type": "code",
   "execution_count": 9,
   "id": "rzYVpEqYoc6u",
   "metadata": {
    "executionInfo": {
     "elapsed": 1136,
     "status": "ok",
     "timestamp": 1735764614712,
     "user": {
      "displayName": "Javad Monsefi",
      "userId": "11903795943444044796"
     },
     "user_tz": -210
    },
    "id": "rzYVpEqYoc6u"
   },
   "outputs": [],
   "source": [
    "# encode the data"
   ]
  },
  {
   "cell_type": "markdown",
   "id": "cqlcWo47oj-1",
   "metadata": {
    "id": "cqlcWo47oj-1"
   },
   "source": [
    "## define x , y"
   ]
  },
  {
   "cell_type": "code",
   "execution_count": 11,
   "id": "05fc096e-a29d-48df-83e6-ecb75585c24d",
   "metadata": {
    "id": "05fc096e-a29d-48df-83e6-ecb75585c24d"
   },
   "outputs": [],
   "source": [
    "import numpy as np\n",
    "X = df[['A']].values\n",
    "y = df['T'].values"
   ]
  },
  {
   "cell_type": "markdown",
   "id": "fa08aa27-93ea-411b-847c-d7f13c3510bd",
   "metadata": {
    "id": "fa08aa27-93ea-411b-847c-d7f13c3510bd"
   },
   "source": [
    "## spliting"
   ]
  },
  {
   "cell_type": "code",
   "execution_count": 13,
   "id": "52dbb57a-8402-42d2-88f4-2edcd1b46e1a",
   "metadata": {
    "id": "52dbb57a-8402-42d2-88f4-2edcd1b46e1a"
   },
   "outputs": [],
   "source": [
    "from sklearn.model_selection import train_test_split\n",
    "X_train, X_test, y_train, y_test = train_test_split(X, y, test_size=0.2, random_state=42)"
   ]
  },
  {
   "cell_type": "markdown",
   "id": "1d987e9e-3678-425d-b2be-3fd44509d2f8",
   "metadata": {
    "id": "1d987e9e-3678-425d-b2be-3fd44509d2f8"
   },
   "source": [
    "## scaling"
   ]
  },
  {
   "cell_type": "code",
   "execution_count": 15,
   "id": "9fd8add6-1b29-41b9-a658-5f415991e67f",
   "metadata": {
    "id": "9fd8add6-1b29-41b9-a658-5f415991e67f"
   },
   "outputs": [],
   "source": [
    "from sklearn.preprocessing import MinMaxScaler\n",
    "mms = MinMaxScaler()\n",
    "X_train = mms.fit_transform(X_train)\n",
    "X_test = mms.transform(X_test)"
   ]
  },
  {
   "cell_type": "markdown",
   "id": "defd373b-8a71-4c31-8d32-f576426768f8",
   "metadata": {
    "id": "defd373b-8a71-4c31-8d32-f576426768f8"
   },
   "source": [
    "## fit the model"
   ]
  },
  {
   "cell_type": "code",
   "execution_count": 17,
   "id": "a9a5f188-ef9b-409a-ac94-432f1d790948",
   "metadata": {
    "id": "a9a5f188-ef9b-409a-ac94-432f1d790948"
   },
   "outputs": [
    {
     "name": "stderr",
     "output_type": "stream",
     "text": [
      "C:\\Users\\javad\\AppData\\Local\\anaconda3\\Lib\\site-packages\\sklearn\\gaussian_process\\_gpr.py:660: ConvergenceWarning: lbfgs failed to converge (status=2):\n",
      "ABNORMAL_TERMINATION_IN_LNSRCH.\n",
      "\n",
      "Increase the number of iterations (max_iter) or scale the data as shown in:\n",
      "    https://scikit-learn.org/stable/modules/preprocessing.html\n",
      "  _check_optimize_result(\"lbfgs\", opt_res)\n"
     ]
    },
    {
     "name": "stdout",
     "output_type": "stream",
     "text": [
      "run time: 1.25\n"
     ]
    },
    {
     "name": "stderr",
     "output_type": "stream",
     "text": [
      "C:\\Users\\javad\\AppData\\Local\\anaconda3\\Lib\\site-packages\\sklearn\\gaussian_process\\kernels.py:452: ConvergenceWarning: The optimal value found for dimension 0 of parameter k1__constant_value is close to the specified upper bound 100.0. Increasing the bound and calling fit again may find a better value.\n",
      "  warnings.warn(\n",
      "C:\\Users\\javad\\AppData\\Local\\anaconda3\\Lib\\site-packages\\sklearn\\gaussian_process\\kernels.py:442: ConvergenceWarning: The optimal value found for dimension 0 of parameter k2__length_scale is close to the specified lower bound 0.001. Decreasing the bound and calling fit again may find a better value.\n",
      "  warnings.warn(\n"
     ]
    }
   ],
   "source": [
    "import time\n",
    "t1 = time.time()\n",
    "\n",
    "from sklearn.gaussian_process import GaussianProcessRegressor\n",
    "from sklearn.gaussian_process.kernels import RBF, ConstantKernel as C\n",
    "\n",
    "kernel = C(1.0, (1e-2, 1e2)) * RBF(1, (1e-3, 1e1))\n",
    "\n",
    "model = GaussianProcessRegressor(kernel=kernel, n_restarts_optimizer=10, random_state=42)\n",
    "model.fit(X_train, y_train)\n",
    "\n",
    "t2 = time.time()\n",
    "print(f\"run time: {round((t2 - t1) / 60, 2)}\")"
   ]
  },
  {
   "cell_type": "markdown",
   "id": "36d85eec-29df-4d77-862d-01224926bcd2",
   "metadata": {
    "id": "36d85eec-29df-4d77-862d-01224926bcd2"
   },
   "source": [
    "## predict test data"
   ]
  },
  {
   "cell_type": "code",
   "execution_count": 28,
   "id": "11d398cb-3a1d-4562-b17b-5cfb63ef0986",
   "metadata": {
    "id": "11d398cb-3a1d-4562-b17b-5cfb63ef0986"
   },
   "outputs": [],
   "source": [
    "yhat_test, sigma = model.predict(X_test, return_std=True)"
   ]
  },
  {
   "cell_type": "markdown",
   "id": "230764e4-7921-4059-928a-32c81242db2d",
   "metadata": {
    "id": "230764e4-7921-4059-928a-32c81242db2d"
   },
   "source": [
    "## Evaluate the model"
   ]
  },
  {
   "cell_type": "code",
   "execution_count": 30,
   "id": "6d295c5b-c475-4baa-83f3-15ed535b901a",
   "metadata": {
    "id": "6d295c5b-c475-4baa-83f3-15ed535b901a"
   },
   "outputs": [
    {
     "name": "stdout",
     "output_type": "stream",
     "text": [
      "r2-score (train data): 0.8162\n",
      "r2-score (test data): 0.8262\n"
     ]
    }
   ],
   "source": [
    "from sklearn.metrics import r2_score\n",
    "print(\"r2-score (train data): %0.4f\" % r2_score(y_train, model.predict(X_train)))\n",
    "print(\"r2-score (test data): %0.4f\" % r2_score(y_test, yhat_test))"
   ]
  },
  {
   "cell_type": "code",
   "execution_count": 32,
   "id": "eef0232d-4903-42e5-bde5-189799a3a8ff",
   "metadata": {},
   "outputs": [
    {
     "name": "stdout",
     "output_type": "stream",
     "text": [
      "MSE (train data): 730.8828068711694\n",
      "MAE (train data): 20.611245122914735\n",
      "MSE (test data): 718.5668655088049\n",
      "MAE (test data): 20.253652982626274\n"
     ]
    }
   ],
   "source": [
    "from sklearn.metrics import mean_squared_error\n",
    "from sklearn.metrics import mean_absolute_error\n",
    "print(f\"MSE (train data): {mean_squared_error(y_train, model.predict(X_train))}\")\n",
    "print(f\"MAE (train data): {mean_absolute_error(y_train, model.predict(X_train))}\")\n",
    "print(f\"MSE (test data): {mean_squared_error(y_test, yhat_test)}\")\n",
    "print(f\"MAE (test data): {mean_absolute_error(y_test, yhat_test)}\")"
   ]
  },
  {
   "cell_type": "markdown",
   "id": "dbMMS-7Zooxl",
   "metadata": {
    "id": "dbMMS-7Zooxl"
   },
   "source": [
    "## save the model"
   ]
  },
  {
   "cell_type": "code",
   "execution_count": null,
   "id": "TUbg2u5OoqQN",
   "metadata": {
    "id": "TUbg2u5OoqQN"
   },
   "outputs": [],
   "source": [
    "# import joblib\n",
    "# joblib.dump(model, 'GPR_model.pkl')"
   ]
  },
  {
   "cell_type": "markdown",
   "id": "t7s-vr9Doqs1",
   "metadata": {
    "id": "t7s-vr9Doqs1"
   },
   "source": [
    "## load the model"
   ]
  },
  {
   "cell_type": "code",
   "execution_count": null,
   "id": "7Ay807Rtosk8",
   "metadata": {
    "id": "7Ay807Rtosk8"
   },
   "outputs": [],
   "source": [
    "# import joblib\n",
    "# model = joblib.load('GPR_model.pkl')"
   ]
  }
 ],
 "metadata": {
  "colab": {
   "provenance": []
  },
  "kernelspec": {
   "display_name": "Python [conda env:base] *",
   "language": "python",
   "name": "conda-base-py"
  },
  "language_info": {
   "codemirror_mode": {
    "name": "ipython",
    "version": 3
   },
   "file_extension": ".py",
   "mimetype": "text/x-python",
   "name": "python",
   "nbconvert_exporter": "python",
   "pygments_lexer": "ipython3",
   "version": "3.12.7"
  }
 },
 "nbformat": 4,
 "nbformat_minor": 5
}
