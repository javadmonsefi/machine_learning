{
 "cells": [
  {
   "cell_type": "markdown",
   "id": "ea701b2a-9444-4fc1-afca-4fd64c597d72",
   "metadata": {
    "id": "ea701b2a-9444-4fc1-afca-4fd64c597d72"
   },
   "source": [
    "# Quantile Regression"
   ]
  },
  {
   "cell_type": "code",
   "execution_count": 1,
   "id": "k8a3a08qjLuJ",
   "metadata": {
    "id": "k8a3a08qjLuJ"
   },
   "outputs": [],
   "source": [
    "# from google.colab import files\n",
    "# up = files.upload()"
   ]
  },
  {
   "cell_type": "markdown",
   "id": "db579b08-2b34-47a7-94f3-bca4551ca3db",
   "metadata": {
    "id": "db579b08-2b34-47a7-94f3-bca4551ca3db"
   },
   "source": [
    "## import dataset"
   ]
  },
  {
   "cell_type": "code",
   "execution_count": 6,
   "id": "d8504be2-73ef-4401-b2ad-76af669022fe",
   "metadata": {
    "id": "d8504be2-73ef-4401-b2ad-76af669022fe",
    "outputId": "049a29a7-89e1-4248-b0ad-e730e21d2bca"
   },
   "outputs": [
    {
     "data": {
      "text/html": [
       "<div>\n",
       "<style scoped>\n",
       "    .dataframe tbody tr th:only-of-type {\n",
       "        vertical-align: middle;\n",
       "    }\n",
       "\n",
       "    .dataframe tbody tr th {\n",
       "        vertical-align: top;\n",
       "    }\n",
       "\n",
       "    .dataframe thead th {\n",
       "        text-align: right;\n",
       "    }\n",
       "</style>\n",
       "<table border=\"1\" class=\"dataframe\">\n",
       "  <thead>\n",
       "    <tr style=\"text-align: right;\">\n",
       "      <th></th>\n",
       "      <th>A</th>\n",
       "      <th>B</th>\n",
       "      <th>C</th>\n",
       "      <th>T</th>\n",
       "    </tr>\n",
       "  </thead>\n",
       "  <tbody>\n",
       "    <tr>\n",
       "      <th>0</th>\n",
       "      <td>2.0</td>\n",
       "      <td>4</td>\n",
       "      <td>8.5</td>\n",
       "      <td>196</td>\n",
       "    </tr>\n",
       "    <tr>\n",
       "      <th>1</th>\n",
       "      <td>2.4</td>\n",
       "      <td>4</td>\n",
       "      <td>9.6</td>\n",
       "      <td>221</td>\n",
       "    </tr>\n",
       "    <tr>\n",
       "      <th>2</th>\n",
       "      <td>1.5</td>\n",
       "      <td>4</td>\n",
       "      <td>5.9</td>\n",
       "      <td>136</td>\n",
       "    </tr>\n",
       "  </tbody>\n",
       "</table>\n",
       "</div>"
      ],
      "text/plain": [
       "     A  B    C    T\n",
       "0  2.0  4  8.5  196\n",
       "1  2.4  4  9.6  221\n",
       "2  1.5  4  5.9  136"
      ]
     },
     "execution_count": 6,
     "metadata": {},
     "output_type": "execute_result"
    }
   ],
   "source": [
    "import pandas as pd\n",
    "df = pd.read_csv('data.csv')\n",
    "df.head(3)"
   ]
  },
  {
   "cell_type": "code",
   "execution_count": 8,
   "id": "VuWp9LnkjRTJ",
   "metadata": {
    "id": "VuWp9LnkjRTJ"
   },
   "outputs": [],
   "source": [
    "# df.info()"
   ]
  },
  {
   "cell_type": "markdown",
   "id": "5W7vYQaHjTIy",
   "metadata": {
    "id": "5W7vYQaHjTIy"
   },
   "source": [
    "## cleaning"
   ]
  },
  {
   "cell_type": "code",
   "execution_count": 11,
   "id": "OHSSMIkWjUfn",
   "metadata": {
    "id": "OHSSMIkWjUfn"
   },
   "outputs": [],
   "source": [
    "# clean the data"
   ]
  },
  {
   "cell_type": "markdown",
   "id": "XV-sithUjU2T",
   "metadata": {
    "id": "XV-sithUjU2T"
   },
   "source": [
    "## encoding"
   ]
  },
  {
   "cell_type": "code",
   "execution_count": 14,
   "id": "L-s8doKvjXl8",
   "metadata": {
    "id": "L-s8doKvjXl8"
   },
   "outputs": [],
   "source": [
    "# encode the data"
   ]
  },
  {
   "cell_type": "markdown",
   "id": "08cac906-ff16-4ea9-a144-491d53f789ea",
   "metadata": {
    "id": "08cac906-ff16-4ea9-a144-491d53f789ea"
   },
   "source": [
    "## define x , y"
   ]
  },
  {
   "cell_type": "code",
   "execution_count": 17,
   "id": "5bbe7931-b8d8-4202-9d55-b203ba46241f",
   "metadata": {
    "id": "5bbe7931-b8d8-4202-9d55-b203ba46241f"
   },
   "outputs": [],
   "source": [
    "import numpy as np\n",
    "X = df[['A', 'B', 'C']].values\n",
    "y = df['T'].values"
   ]
  },
  {
   "cell_type": "markdown",
   "id": "1c964d85-12a7-408a-8ccc-d5b7ec68103a",
   "metadata": {
    "id": "1c964d85-12a7-408a-8ccc-d5b7ec68103a"
   },
   "source": [
    "## spliting"
   ]
  },
  {
   "cell_type": "code",
   "execution_count": 20,
   "id": "c15d656a-8344-48f1-90f6-a035e6642d7d",
   "metadata": {
    "id": "c15d656a-8344-48f1-90f6-a035e6642d7d"
   },
   "outputs": [],
   "source": [
    "from sklearn.model_selection import train_test_split\n",
    "X_train, X_test, y_train, y_test = train_test_split(X, y, test_size=0.2, random_state=42)"
   ]
  },
  {
   "cell_type": "markdown",
   "id": "ef5f9456-24e9-4887-9dd1-4abb5f33cdc4",
   "metadata": {
    "id": "ef5f9456-24e9-4887-9dd1-4abb5f33cdc4"
   },
   "source": [
    "## scaling"
   ]
  },
  {
   "cell_type": "code",
   "execution_count": 22,
   "id": "7a0429bf-c1c7-4da4-883f-e92be048e12d",
   "metadata": {
    "id": "7a0429bf-c1c7-4da4-883f-e92be048e12d"
   },
   "outputs": [],
   "source": [
    "from sklearn.preprocessing import StandardScaler\n",
    "scaler = StandardScaler()\n",
    "X_train = scaler.fit_transform(X_train)\n",
    "X_test = scaler.transform(X_test)"
   ]
  },
  {
   "cell_type": "markdown",
   "id": "972243fa-9a79-4104-a72d-5f6b8b0980a5",
   "metadata": {
    "id": "972243fa-9a79-4104-a72d-5f6b8b0980a5"
   },
   "source": [
    "## Add a constant term to the features (intercept)"
   ]
  },
  {
   "cell_type": "code",
   "execution_count": 26,
   "id": "ff2421d5-21cc-46bc-9a4a-2c400bdf6482",
   "metadata": {
    "id": "ff2421d5-21cc-46bc-9a4a-2c400bdf6482"
   },
   "outputs": [],
   "source": [
    "import statsmodels.api as sm\n",
    "\n",
    "X_train = sm.add_constant(X_train)\n",
    "X_test = sm.add_constant(X_test)"
   ]
  },
  {
   "cell_type": "markdown",
   "id": "c0fa921a-51e9-4f97-9b35-d86b8617f04a",
   "metadata": {
    "id": "c0fa921a-51e9-4f97-9b35-d86b8617f04a"
   },
   "source": [
    "## Initialize the Quantile Regression model for the median (0.5 quantile)"
   ]
  },
  {
   "cell_type": "code",
   "execution_count": 29,
   "id": "ee33e21a-28b3-4fdf-ace0-0337e02d8db7",
   "metadata": {
    "id": "ee33e21a-28b3-4fdf-ace0-0337e02d8db7"
   },
   "outputs": [],
   "source": [
    "quantile = 0.5\n",
    "model = sm.QuantReg(y_train, X_train).fit(q=quantile)"
   ]
  },
  {
   "cell_type": "markdown",
   "id": "54a747fa-117e-4c28-b988-277ccf3a4881",
   "metadata": {
    "id": "54a747fa-117e-4c28-b988-277ccf3a4881"
   },
   "source": [
    "## Make predictions on the test data"
   ]
  },
  {
   "cell_type": "code",
   "execution_count": 32,
   "id": "5174bd68-0b0f-40e0-9516-2429b25fd33c",
   "metadata": {
    "id": "5174bd68-0b0f-40e0-9516-2429b25fd33c"
   },
   "outputs": [],
   "source": [
    "yhat_test = model.predict(X_test)"
   ]
  },
  {
   "cell_type": "markdown",
   "id": "4aebcd34-e716-4112-908f-776249cf7310",
   "metadata": {
    "id": "4aebcd34-e716-4112-908f-776249cf7310"
   },
   "source": [
    "## Evaluate the model"
   ]
  },
  {
   "cell_type": "code",
   "execution_count": 35,
   "id": "b287ede0-ef81-4764-a417-8e847b814f5c",
   "metadata": {
    "id": "b287ede0-ef81-4764-a417-8e847b814f5c",
    "outputId": "e3c1a564-13a7-4520-afb8-ba2be4a62bab"
   },
   "outputs": [
    {
     "name": "stdout",
     "output_type": "stream",
     "text": [
      "r2-score (train data): 0.6313\n",
      "r2-score (test data): 0.6558\n"
     ]
    }
   ],
   "source": [
    "from sklearn.metrics import r2_score\n",
    "print(\"r2-score (train data): %0.4f\" % r2_score(y_train, model.predict(X_train)))\n",
    "print(\"r2-score (test data): %0.4f\" % r2_score(y_test, yhat_test))"
   ]
  },
  {
   "cell_type": "markdown",
   "id": "0fba5de0-91ef-4850-9359-ca3a50298d1f",
   "metadata": {
    "id": "0fba5de0-91ef-4850-9359-ca3a50298d1f"
   },
   "source": [
    "## Print the model summary"
   ]
  },
  {
   "cell_type": "code",
   "execution_count": 38,
   "id": "6f9b74f6-4cf3-4cbd-8acb-c3c864eed8cf",
   "metadata": {
    "id": "6f9b74f6-4cf3-4cbd-8acb-c3c864eed8cf",
    "outputId": "52d963ad-3571-4eb5-e2a1-78d5552ec730"
   },
   "outputs": [
    {
     "name": "stdout",
     "output_type": "stream",
     "text": [
      "                         QuantReg Regression Results                          \n",
      "==============================================================================\n",
      "Dep. Variable:                      y   Pseudo R-squared:               0.7599\n",
      "Model:                       QuantReg   Bandwidth:                      0.2269\n",
      "Method:                 Least Squares   Sparsity:                        1.161\n",
      "Date:                Fri, 11 Apr 2025   No. Observations:                  853\n",
      "Time:                        15:37:34   Df Residuals:                      849\n",
      "                                        Df Model:                            3\n",
      "==============================================================================\n",
      "                 coef    std err          t      P>|t|      [0.025      0.975]\n",
      "------------------------------------------------------------------------------\n",
      "const        267.3271      0.020   1.35e+04      0.000     267.288     267.366\n",
      "x1             0.1150      0.062      1.855      0.064      -0.007       0.237\n",
      "x2             0.1843      0.056      3.288      0.001       0.074       0.294\n",
      "x3            79.2644      0.035   2269.778      0.000      79.196      79.333\n",
      "==============================================================================\n"
     ]
    }
   ],
   "source": [
    "print(model.summary())"
   ]
  },
  {
   "cell_type": "markdown",
   "id": "W13xo9zAjfUU",
   "metadata": {
    "id": "W13xo9zAjfUU"
   },
   "source": [
    "## save the model"
   ]
  },
  {
   "cell_type": "code",
   "execution_count": null,
   "id": "1ZUxBbu-jhDs",
   "metadata": {
    "id": "1ZUxBbu-jhDs"
   },
   "outputs": [],
   "source": [
    "# import joblib\n",
    "# joblib.dump(qr, 'model.pkl')"
   ]
  },
  {
   "cell_type": "markdown",
   "id": "hmCZN54cjhgr",
   "metadata": {
    "id": "hmCZN54cjhgr"
   },
   "source": [
    "## load the model"
   ]
  },
  {
   "cell_type": "code",
   "execution_count": null,
   "id": "e8oxT-1wjjSn",
   "metadata": {
    "id": "e8oxT-1wjjSn"
   },
   "outputs": [],
   "source": [
    "# import joblib\n",
    "# qr = joblib.load('model.pkl')"
   ]
  }
 ],
 "metadata": {
  "colab": {
   "provenance": []
  },
  "kernelspec": {
   "display_name": "Python [conda env:base] *",
   "language": "python",
   "name": "conda-base-py"
  },
  "language_info": {
   "codemirror_mode": {
    "name": "ipython",
    "version": 3
   },
   "file_extension": ".py",
   "mimetype": "text/x-python",
   "name": "python",
   "nbconvert_exporter": "python",
   "pygments_lexer": "ipython3",
   "version": "3.12.7"
  }
 },
 "nbformat": 4,
 "nbformat_minor": 5
}
